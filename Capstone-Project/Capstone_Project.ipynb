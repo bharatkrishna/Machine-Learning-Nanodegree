{
 "cells": [
  {
   "cell_type": "markdown",
   "metadata": {},
   "source": [
    "## Machine Learning Engineer Nanodegree\n",
    "## Capstone Project"
   ]
  },
  {
   "cell_type": "markdown",
   "metadata": {},
   "source": [
    "### Exploratory Data Analysis "
   ]
  },
  {
   "cell_type": "markdown",
   "metadata": {},
   "source": [
    "We will perform Exploratory Analysis and Preprocessing of the data."
   ]
  },
  {
   "cell_type": "code",
   "execution_count": 1,
   "metadata": {},
   "outputs": [],
   "source": [
    "import numpy as np\n",
    "import pandas as pd\n",
    "from IPython.display import display # Allows the use of display() for DataFrames\n",
    "import matplotlib.pyplot as plt\n",
    "import seaborn as sns\n",
    "\n",
    "import visuals as vs\n",
    "\n",
    "# sns.set(style=\"whitegrid\")\n",
    "sns.set(style=\"darkgrid\")\n",
    "sns.set_context(\"paper\")\n",
    "# Pretty display for notebooks\n",
    "%matplotlib inline"
   ]
  },
  {
   "cell_type": "code",
   "execution_count": 2,
   "metadata": {},
   "outputs": [
    {
     "name": "stdout",
     "output_type": "stream",
     "text": [
      "Training Dataset has 37670293 samples with 24 features each.\n"
     ]
    }
   ],
   "source": [
    "# Load the dataset\n",
    "try:\n",
    "    data_train_raw = pd.read_csv(\"dataset/train.csv\")\n",
    "    print(\"Training Dataset has {} samples with {} features each.\".format(*data_train_raw.shape))\n",
    "except:\n",
    "    print(\"Dataset could not be loaded.\")"
   ]
  },
  {
   "cell_type": "code",
   "execution_count": 3,
   "metadata": {},
   "outputs": [
    {
     "name": "stdout",
     "output_type": "stream",
     "text": [
      "Test Dataset has 2528243 samples with 22 features each.\n"
     ]
    }
   ],
   "source": [
    "# Load the dataset\n",
    "try:\n",
    "    data_test = pd.read_csv(\"dataset/test.csv\")\n",
    "    print(\"Test Dataset has {} samples with {} features each.\".format(*data_test.shape))\n",
    "except:\n",
    "    print(\"Dataset could not be loaded.\")"
   ]
  },
  {
   "cell_type": "markdown",
   "metadata": {},
   "source": [
    "Description of the features as given on Kaggle.\n",
    "\n",
    "|  Feature |  Description | \n",
    "|----------|:---------|\n",
    "| date_time  | Timestamp     |\n",
    "| site_name | ID of the Expedia point of sale (i.e. Expedia.com, Expedia.co.uk, Expedia.co.jp, ...)|\n",
    "| posa_continent | ID of continent associated with site_name |\n",
    "| user_location_country |The ID of the country the customer is located |\n",
    "| user_location_region|The ID of the region the customer is located|\n",
    "| user_location_city| The ID of the city the customer is located|\n",
    "| orig_destination_distance| Physical distance between a hotel and a customer at the time of search. A null means the distance could not be calculated|\n",
    "| user_id| ID of user|\n",
    "| is_mobile| 1 when a user connected from a mobile device, 0 otherwise|\n",
    "| is_package| 1 if the click/booking was generated as a part of a package (i.e. combined with a flight), 0 otherwise|\n",
    "| channel| ID of a marketing channel|\n",
    "| srch_ci| Checkin date|\n",
    "| srch_co| Checkout date|\n",
    "| srch_adults_cnt| The number of adults specified in the hotel room|\n",
    "| srch_children_cnt| The number of (extra occupancy) children specified in the hotel room|\n",
    "| srch_rm_cnt| The number of hotel rooms specified in the search|\n",
    "| srch_destination_id| ID of the destination where the hotel search was performed|\n",
    "| srch_destination_type_id| Type of destination|\n",
    "| hotel_continent| Hotel continent|\n",
    "| hotel_country| Hotel country|\n",
    "| hotel_market| Hotel market|\n",
    "| is_booking | 1 if a booking, 0 if a click|\n",
    "| cnt| Numer of similar events in the context of the same user session|\n",
    "| hotel_cluster| ID of hotel cluster|"
   ]
  },
  {
   "cell_type": "code",
   "execution_count": 4,
   "metadata": {},
   "outputs": [
    {
     "name": "stdout",
     "output_type": "stream",
     "text": [
      "<class 'pandas.core.frame.DataFrame'>\n",
      "RangeIndex: 37670293 entries, 0 to 37670292\n",
      "Data columns (total 24 columns):\n",
      "date_time                    object\n",
      "site_name                    int64\n",
      "posa_continent               int64\n",
      "user_location_country        int64\n",
      "user_location_region         int64\n",
      "user_location_city           int64\n",
      "orig_destination_distance    float64\n",
      "user_id                      int64\n",
      "is_mobile                    int64\n",
      "is_package                   int64\n",
      "channel                      int64\n",
      "srch_ci                      object\n",
      "srch_co                      object\n",
      "srch_adults_cnt              int64\n",
      "srch_children_cnt            int64\n",
      "srch_rm_cnt                  int64\n",
      "srch_destination_id          int64\n",
      "srch_destination_type_id     int64\n",
      "is_booking                   int64\n",
      "cnt                          int64\n",
      "hotel_continent              int64\n",
      "hotel_country                int64\n",
      "hotel_market                 int64\n",
      "hotel_cluster                int64\n",
      "dtypes: float64(1), int64(20), object(3)\n",
      "memory usage: 6.7+ GB\n"
     ]
    }
   ],
   "source": [
    "data_train_raw.info()"
   ]
  },
  {
   "cell_type": "code",
   "execution_count": 5,
   "metadata": {},
   "outputs": [
    {
     "data": {
      "text/html": [
       "<div>\n",
       "<style scoped>\n",
       "    .dataframe tbody tr th:only-of-type {\n",
       "        vertical-align: middle;\n",
       "    }\n",
       "\n",
       "    .dataframe tbody tr th {\n",
       "        vertical-align: top;\n",
       "    }\n",
       "\n",
       "    .dataframe thead th {\n",
       "        text-align: right;\n",
       "    }\n",
       "</style>\n",
       "<table border=\"1\" class=\"dataframe\">\n",
       "  <thead>\n",
       "    <tr style=\"text-align: right;\">\n",
       "      <th></th>\n",
       "      <th>date_time</th>\n",
       "      <th>site_name</th>\n",
       "      <th>posa_continent</th>\n",
       "      <th>user_location_country</th>\n",
       "      <th>user_location_region</th>\n",
       "      <th>user_location_city</th>\n",
       "      <th>orig_destination_distance</th>\n",
       "      <th>user_id</th>\n",
       "      <th>is_mobile</th>\n",
       "      <th>is_package</th>\n",
       "      <th>...</th>\n",
       "      <th>srch_children_cnt</th>\n",
       "      <th>srch_rm_cnt</th>\n",
       "      <th>srch_destination_id</th>\n",
       "      <th>srch_destination_type_id</th>\n",
       "      <th>is_booking</th>\n",
       "      <th>cnt</th>\n",
       "      <th>hotel_continent</th>\n",
       "      <th>hotel_country</th>\n",
       "      <th>hotel_market</th>\n",
       "      <th>hotel_cluster</th>\n",
       "    </tr>\n",
       "  </thead>\n",
       "  <tbody>\n",
       "    <tr>\n",
       "      <th>0</th>\n",
       "      <td>2014-08-11 07:46:59</td>\n",
       "      <td>2</td>\n",
       "      <td>3</td>\n",
       "      <td>66</td>\n",
       "      <td>348</td>\n",
       "      <td>48862</td>\n",
       "      <td>2234.2641</td>\n",
       "      <td>12</td>\n",
       "      <td>0</td>\n",
       "      <td>1</td>\n",
       "      <td>...</td>\n",
       "      <td>0</td>\n",
       "      <td>1</td>\n",
       "      <td>8250</td>\n",
       "      <td>1</td>\n",
       "      <td>0</td>\n",
       "      <td>3</td>\n",
       "      <td>2</td>\n",
       "      <td>50</td>\n",
       "      <td>628</td>\n",
       "      <td>1</td>\n",
       "    </tr>\n",
       "    <tr>\n",
       "      <th>1</th>\n",
       "      <td>2014-08-11 08:22:12</td>\n",
       "      <td>2</td>\n",
       "      <td>3</td>\n",
       "      <td>66</td>\n",
       "      <td>348</td>\n",
       "      <td>48862</td>\n",
       "      <td>2234.2641</td>\n",
       "      <td>12</td>\n",
       "      <td>0</td>\n",
       "      <td>1</td>\n",
       "      <td>...</td>\n",
       "      <td>0</td>\n",
       "      <td>1</td>\n",
       "      <td>8250</td>\n",
       "      <td>1</td>\n",
       "      <td>1</td>\n",
       "      <td>1</td>\n",
       "      <td>2</td>\n",
       "      <td>50</td>\n",
       "      <td>628</td>\n",
       "      <td>1</td>\n",
       "    </tr>\n",
       "    <tr>\n",
       "      <th>2</th>\n",
       "      <td>2014-08-11 08:24:33</td>\n",
       "      <td>2</td>\n",
       "      <td>3</td>\n",
       "      <td>66</td>\n",
       "      <td>348</td>\n",
       "      <td>48862</td>\n",
       "      <td>2234.2641</td>\n",
       "      <td>12</td>\n",
       "      <td>0</td>\n",
       "      <td>0</td>\n",
       "      <td>...</td>\n",
       "      <td>0</td>\n",
       "      <td>1</td>\n",
       "      <td>8250</td>\n",
       "      <td>1</td>\n",
       "      <td>0</td>\n",
       "      <td>1</td>\n",
       "      <td>2</td>\n",
       "      <td>50</td>\n",
       "      <td>628</td>\n",
       "      <td>1</td>\n",
       "    </tr>\n",
       "    <tr>\n",
       "      <th>3</th>\n",
       "      <td>2014-08-09 18:05:16</td>\n",
       "      <td>2</td>\n",
       "      <td>3</td>\n",
       "      <td>66</td>\n",
       "      <td>442</td>\n",
       "      <td>35390</td>\n",
       "      <td>913.1932</td>\n",
       "      <td>93</td>\n",
       "      <td>0</td>\n",
       "      <td>0</td>\n",
       "      <td>...</td>\n",
       "      <td>0</td>\n",
       "      <td>1</td>\n",
       "      <td>14984</td>\n",
       "      <td>1</td>\n",
       "      <td>0</td>\n",
       "      <td>1</td>\n",
       "      <td>2</td>\n",
       "      <td>50</td>\n",
       "      <td>1457</td>\n",
       "      <td>80</td>\n",
       "    </tr>\n",
       "    <tr>\n",
       "      <th>4</th>\n",
       "      <td>2014-08-09 18:08:18</td>\n",
       "      <td>2</td>\n",
       "      <td>3</td>\n",
       "      <td>66</td>\n",
       "      <td>442</td>\n",
       "      <td>35390</td>\n",
       "      <td>913.6259</td>\n",
       "      <td>93</td>\n",
       "      <td>0</td>\n",
       "      <td>0</td>\n",
       "      <td>...</td>\n",
       "      <td>0</td>\n",
       "      <td>1</td>\n",
       "      <td>14984</td>\n",
       "      <td>1</td>\n",
       "      <td>0</td>\n",
       "      <td>1</td>\n",
       "      <td>2</td>\n",
       "      <td>50</td>\n",
       "      <td>1457</td>\n",
       "      <td>21</td>\n",
       "    </tr>\n",
       "  </tbody>\n",
       "</table>\n",
       "<p>5 rows × 24 columns</p>\n",
       "</div>"
      ],
      "text/plain": [
       "             date_time  site_name  posa_continent  user_location_country  \\\n",
       "0  2014-08-11 07:46:59          2               3                     66   \n",
       "1  2014-08-11 08:22:12          2               3                     66   \n",
       "2  2014-08-11 08:24:33          2               3                     66   \n",
       "3  2014-08-09 18:05:16          2               3                     66   \n",
       "4  2014-08-09 18:08:18          2               3                     66   \n",
       "\n",
       "   user_location_region  user_location_city  orig_destination_distance  \\\n",
       "0                   348               48862                  2234.2641   \n",
       "1                   348               48862                  2234.2641   \n",
       "2                   348               48862                  2234.2641   \n",
       "3                   442               35390                   913.1932   \n",
       "4                   442               35390                   913.6259   \n",
       "\n",
       "   user_id  is_mobile  is_package      ...        srch_children_cnt  \\\n",
       "0       12          0           1      ...                        0   \n",
       "1       12          0           1      ...                        0   \n",
       "2       12          0           0      ...                        0   \n",
       "3       93          0           0      ...                        0   \n",
       "4       93          0           0      ...                        0   \n",
       "\n",
       "  srch_rm_cnt srch_destination_id  srch_destination_type_id  is_booking  cnt  \\\n",
       "0           1                8250                         1           0    3   \n",
       "1           1                8250                         1           1    1   \n",
       "2           1                8250                         1           0    1   \n",
       "3           1               14984                         1           0    1   \n",
       "4           1               14984                         1           0    1   \n",
       "\n",
       "   hotel_continent  hotel_country  hotel_market  hotel_cluster  \n",
       "0                2             50           628              1  \n",
       "1                2             50           628              1  \n",
       "2                2             50           628              1  \n",
       "3                2             50          1457             80  \n",
       "4                2             50          1457             21  \n",
       "\n",
       "[5 rows x 24 columns]"
      ]
     },
     "execution_count": 5,
     "metadata": {},
     "output_type": "execute_result"
    }
   ],
   "source": [
    "data_train_raw.head()"
   ]
  },
  {
   "cell_type": "code",
   "execution_count": 6,
   "metadata": {},
   "outputs": [
    {
     "name": "stdout",
     "output_type": "stream",
     "text": [
      "<class 'pandas.core.frame.DataFrame'>\n",
      "RangeIndex: 2528243 entries, 0 to 2528242\n",
      "Data columns (total 22 columns):\n",
      "id                           int64\n",
      "date_time                    object\n",
      "site_name                    int64\n",
      "posa_continent               int64\n",
      "user_location_country        int64\n",
      "user_location_region         int64\n",
      "user_location_city           int64\n",
      "orig_destination_distance    float64\n",
      "user_id                      int64\n",
      "is_mobile                    int64\n",
      "is_package                   int64\n",
      "channel                      int64\n",
      "srch_ci                      object\n",
      "srch_co                      object\n",
      "srch_adults_cnt              int64\n",
      "srch_children_cnt            int64\n",
      "srch_rm_cnt                  int64\n",
      "srch_destination_id          int64\n",
      "srch_destination_type_id     int64\n",
      "hotel_continent              int64\n",
      "hotel_country                int64\n",
      "hotel_market                 int64\n",
      "dtypes: float64(1), int64(18), object(3)\n",
      "memory usage: 424.4+ MB\n"
     ]
    }
   ],
   "source": [
    "data_test.info()"
   ]
  },
  {
   "cell_type": "code",
   "execution_count": 7,
   "metadata": {},
   "outputs": [
    {
     "data": {
      "text/html": [
       "<div>\n",
       "<style scoped>\n",
       "    .dataframe tbody tr th:only-of-type {\n",
       "        vertical-align: middle;\n",
       "    }\n",
       "\n",
       "    .dataframe tbody tr th {\n",
       "        vertical-align: top;\n",
       "    }\n",
       "\n",
       "    .dataframe thead th {\n",
       "        text-align: right;\n",
       "    }\n",
       "</style>\n",
       "<table border=\"1\" class=\"dataframe\">\n",
       "  <thead>\n",
       "    <tr style=\"text-align: right;\">\n",
       "      <th></th>\n",
       "      <th>id</th>\n",
       "      <th>date_time</th>\n",
       "      <th>site_name</th>\n",
       "      <th>posa_continent</th>\n",
       "      <th>user_location_country</th>\n",
       "      <th>user_location_region</th>\n",
       "      <th>user_location_city</th>\n",
       "      <th>orig_destination_distance</th>\n",
       "      <th>user_id</th>\n",
       "      <th>is_mobile</th>\n",
       "      <th>...</th>\n",
       "      <th>srch_ci</th>\n",
       "      <th>srch_co</th>\n",
       "      <th>srch_adults_cnt</th>\n",
       "      <th>srch_children_cnt</th>\n",
       "      <th>srch_rm_cnt</th>\n",
       "      <th>srch_destination_id</th>\n",
       "      <th>srch_destination_type_id</th>\n",
       "      <th>hotel_continent</th>\n",
       "      <th>hotel_country</th>\n",
       "      <th>hotel_market</th>\n",
       "    </tr>\n",
       "  </thead>\n",
       "  <tbody>\n",
       "    <tr>\n",
       "      <th>0</th>\n",
       "      <td>0</td>\n",
       "      <td>2015-09-03 17:09:54</td>\n",
       "      <td>2</td>\n",
       "      <td>3</td>\n",
       "      <td>66</td>\n",
       "      <td>174</td>\n",
       "      <td>37449</td>\n",
       "      <td>5539.0567</td>\n",
       "      <td>1</td>\n",
       "      <td>1</td>\n",
       "      <td>...</td>\n",
       "      <td>2016-05-19</td>\n",
       "      <td>2016-05-23</td>\n",
       "      <td>2</td>\n",
       "      <td>0</td>\n",
       "      <td>1</td>\n",
       "      <td>12243</td>\n",
       "      <td>6</td>\n",
       "      <td>6</td>\n",
       "      <td>204</td>\n",
       "      <td>27</td>\n",
       "    </tr>\n",
       "    <tr>\n",
       "      <th>1</th>\n",
       "      <td>1</td>\n",
       "      <td>2015-09-24 17:38:35</td>\n",
       "      <td>2</td>\n",
       "      <td>3</td>\n",
       "      <td>66</td>\n",
       "      <td>174</td>\n",
       "      <td>37449</td>\n",
       "      <td>5873.2923</td>\n",
       "      <td>1</td>\n",
       "      <td>1</td>\n",
       "      <td>...</td>\n",
       "      <td>2016-05-12</td>\n",
       "      <td>2016-05-15</td>\n",
       "      <td>2</td>\n",
       "      <td>0</td>\n",
       "      <td>1</td>\n",
       "      <td>14474</td>\n",
       "      <td>7</td>\n",
       "      <td>6</td>\n",
       "      <td>204</td>\n",
       "      <td>1540</td>\n",
       "    </tr>\n",
       "    <tr>\n",
       "      <th>2</th>\n",
       "      <td>2</td>\n",
       "      <td>2015-06-07 15:53:02</td>\n",
       "      <td>2</td>\n",
       "      <td>3</td>\n",
       "      <td>66</td>\n",
       "      <td>142</td>\n",
       "      <td>17440</td>\n",
       "      <td>3975.9776</td>\n",
       "      <td>20</td>\n",
       "      <td>0</td>\n",
       "      <td>...</td>\n",
       "      <td>2015-07-26</td>\n",
       "      <td>2015-07-27</td>\n",
       "      <td>4</td>\n",
       "      <td>0</td>\n",
       "      <td>1</td>\n",
       "      <td>11353</td>\n",
       "      <td>1</td>\n",
       "      <td>2</td>\n",
       "      <td>50</td>\n",
       "      <td>699</td>\n",
       "    </tr>\n",
       "    <tr>\n",
       "      <th>3</th>\n",
       "      <td>3</td>\n",
       "      <td>2015-09-14 14:49:10</td>\n",
       "      <td>2</td>\n",
       "      <td>3</td>\n",
       "      <td>66</td>\n",
       "      <td>258</td>\n",
       "      <td>34156</td>\n",
       "      <td>1508.5975</td>\n",
       "      <td>28</td>\n",
       "      <td>0</td>\n",
       "      <td>...</td>\n",
       "      <td>2015-09-14</td>\n",
       "      <td>2015-09-16</td>\n",
       "      <td>2</td>\n",
       "      <td>0</td>\n",
       "      <td>1</td>\n",
       "      <td>8250</td>\n",
       "      <td>1</td>\n",
       "      <td>2</td>\n",
       "      <td>50</td>\n",
       "      <td>628</td>\n",
       "    </tr>\n",
       "    <tr>\n",
       "      <th>4</th>\n",
       "      <td>4</td>\n",
       "      <td>2015-07-17 09:32:04</td>\n",
       "      <td>2</td>\n",
       "      <td>3</td>\n",
       "      <td>66</td>\n",
       "      <td>467</td>\n",
       "      <td>36345</td>\n",
       "      <td>66.7913</td>\n",
       "      <td>50</td>\n",
       "      <td>0</td>\n",
       "      <td>...</td>\n",
       "      <td>2015-07-22</td>\n",
       "      <td>2015-07-23</td>\n",
       "      <td>2</td>\n",
       "      <td>0</td>\n",
       "      <td>1</td>\n",
       "      <td>11812</td>\n",
       "      <td>1</td>\n",
       "      <td>2</td>\n",
       "      <td>50</td>\n",
       "      <td>538</td>\n",
       "    </tr>\n",
       "  </tbody>\n",
       "</table>\n",
       "<p>5 rows × 22 columns</p>\n",
       "</div>"
      ],
      "text/plain": [
       "   id            date_time  site_name  posa_continent  user_location_country  \\\n",
       "0   0  2015-09-03 17:09:54          2               3                     66   \n",
       "1   1  2015-09-24 17:38:35          2               3                     66   \n",
       "2   2  2015-06-07 15:53:02          2               3                     66   \n",
       "3   3  2015-09-14 14:49:10          2               3                     66   \n",
       "4   4  2015-07-17 09:32:04          2               3                     66   \n",
       "\n",
       "   user_location_region  user_location_city  orig_destination_distance  \\\n",
       "0                   174               37449                  5539.0567   \n",
       "1                   174               37449                  5873.2923   \n",
       "2                   142               17440                  3975.9776   \n",
       "3                   258               34156                  1508.5975   \n",
       "4                   467               36345                    66.7913   \n",
       "\n",
       "   user_id  is_mobile      ...          srch_ci     srch_co srch_adults_cnt  \\\n",
       "0        1          1      ...       2016-05-19  2016-05-23               2   \n",
       "1        1          1      ...       2016-05-12  2016-05-15               2   \n",
       "2       20          0      ...       2015-07-26  2015-07-27               4   \n",
       "3       28          0      ...       2015-09-14  2015-09-16               2   \n",
       "4       50          0      ...       2015-07-22  2015-07-23               2   \n",
       "\n",
       "  srch_children_cnt  srch_rm_cnt  srch_destination_id  \\\n",
       "0                 0            1                12243   \n",
       "1                 0            1                14474   \n",
       "2                 0            1                11353   \n",
       "3                 0            1                 8250   \n",
       "4                 0            1                11812   \n",
       "\n",
       "   srch_destination_type_id  hotel_continent  hotel_country  hotel_market  \n",
       "0                         6                6            204            27  \n",
       "1                         7                6            204          1540  \n",
       "2                         1                2             50           699  \n",
       "3                         1                2             50           628  \n",
       "4                         1                2             50           538  \n",
       "\n",
       "[5 rows x 22 columns]"
      ]
     },
     "execution_count": 7,
     "metadata": {},
     "output_type": "execute_result"
    }
   ],
   "source": [
    "data_test.head()"
   ]
  },
  {
   "cell_type": "code",
   "execution_count": 8,
   "metadata": {},
   "outputs": [],
   "source": [
    "data_train = data_train_raw.copy()"
   ]
  },
  {
   "cell_type": "markdown",
   "metadata": {},
   "source": [
    "The value of 1 for `is_booking` represents that an actual booking happened and 0 represents it was only a click with no booking. Entries with no booking doesn't help us making predictions and can be removed. This also reduces the number of samples from ~37 million to ~3 million, thus making our algorithms faster. "
   ]
  },
  {
   "cell_type": "code",
   "execution_count": 9,
   "metadata": {},
   "outputs": [
    {
     "data": {
      "text/plain": [
       "0    34669600\n",
       "1     3000693\n",
       "Name: is_booking, dtype: int64"
      ]
     },
     "execution_count": 9,
     "metadata": {},
     "output_type": "execute_result"
    }
   ],
   "source": [
    "data_train['is_booking'].value_counts()"
   ]
  },
  {
   "cell_type": "code",
   "execution_count": 10,
   "metadata": {},
   "outputs": [],
   "source": [
    "data_train = data_train[data_train['is_booking'] == 1]"
   ]
  },
  {
   "cell_type": "markdown",
   "metadata": {},
   "source": [
    "Next, we will try to see if there are null values for any of the features in any sample."
   ]
  },
  {
   "cell_type": "code",
   "execution_count": 11,
   "metadata": {},
   "outputs": [
    {
     "data": {
      "text/plain": [
       "date_time                          0\n",
       "site_name                          0\n",
       "posa_continent                     0\n",
       "user_location_country              0\n",
       "user_location_region               0\n",
       "user_location_city                 0\n",
       "orig_destination_distance    1015179\n",
       "user_id                            0\n",
       "is_mobile                          0\n",
       "is_package                         0\n",
       "channel                            0\n",
       "srch_ci                            0\n",
       "srch_co                            0\n",
       "srch_adults_cnt                    0\n",
       "srch_children_cnt                  0\n",
       "srch_rm_cnt                        0\n",
       "srch_destination_id                0\n",
       "srch_destination_type_id           0\n",
       "is_booking                         0\n",
       "cnt                                0\n",
       "hotel_continent                    0\n",
       "hotel_country                      0\n",
       "hotel_market                       0\n",
       "hotel_cluster                      0\n",
       "dtype: int64"
      ]
     },
     "execution_count": 11,
     "metadata": {},
     "output_type": "execute_result"
    }
   ],
   "source": [
    "data_train.isnull().sum()"
   ]
  },
  {
   "cell_type": "markdown",
   "metadata": {},
   "source": [
    "`orig_destination_distance` has 1,015,179 null values. We'll deal with this later. "
   ]
  },
  {
   "cell_type": "markdown",
   "metadata": {},
   "source": [
    "Let's visualize the counts of each `hotel_cluster`."
   ]
  },
  {
   "cell_type": "code",
   "execution_count": 12,
   "metadata": {},
   "outputs": [
    {
     "data": {
      "image/png": "[encoded data removed]",
      "text/plain": [
       "<Figure size 1440x720 with 1 Axes>"
      ]
     },
     "metadata": {},
     "output_type": "display_data"
    }
   ],
   "source": [
    "data_train['hotel_cluster'].value_counts().plot(kind='bar', figsize=(20,10), colormap='tab10')\n",
    "\n",
    "plt.xlabel(\"hotel_cluster\")\n",
    "plt.ylabel(\"Count\")\n",
    "plt.title(\"Frequency of Hotel Clusters\")\n",
    "plt.show()"
   ]
  },
  {
   "cell_type": "code",
   "execution_count": 13,
   "metadata": {},
   "outputs": [
    {
     "data": {
      "text/plain": [
       "91    120972\n",
       "48     85377\n",
       "42     73123\n",
       "59     66609\n",
       "28     63978\n",
       "Name: hotel_cluster, dtype: int64"
      ]
     },
     "execution_count": 13,
     "metadata": {},
     "output_type": "execute_result"
    }
   ],
   "source": [
    "top5_hotel_clusters = data_train['hotel_cluster'].value_counts().head(5)\n",
    "top5_hotel_clusters"
   ]
  },
  {
   "cell_type": "markdown",
   "metadata": {},
   "source": [
    "**Feature Engineering** is performed on some of the features to make them numeric. "
   ]
  },
  {
   "cell_type": "code",
   "execution_count": 14,
   "metadata": {},
   "outputs": [],
   "source": [
    "srch_ci = pd.to_datetime(data_train[\"srch_ci\"], format='%Y-%m-%d', errors=\"coerce\")\n",
    "srch_co = pd.to_datetime(data_train[\"srch_co\"], format='%Y-%m-%d', errors=\"coerce\")\n",
    "\n",
    "data_train[\"date_time\"] = pd.to_datetime(data_train[\"date_time\"], format='%Y-%m-%d', errors=\"coerce\")\n",
    "data_train[\"stay_duration\"] = (srch_co-srch_ci).astype('timedelta64[D]')\n",
    "data_train[\"srch_month\"] = data_train[\"date_time\"].apply(lambda dt: dt.month)\n",
    "data_train[\"srch_ci_month\"] = srch_ci.apply(lambda dt: dt.month)\n",
    "data_train[\"srch_co_month\"] = srch_co.apply(lambda dt: dt.month)"
   ]
  },
  {
   "cell_type": "code",
   "execution_count": 15,
   "metadata": {},
   "outputs": [],
   "source": [
    "data_train = data_train.drop([\"date_time\", \"srch_ci\", \"srch_co\", \"is_booking\"], axis=1)"
   ]
  },
  {
   "cell_type": "code",
   "execution_count": 16,
   "metadata": {},
   "outputs": [
    {
     "data": {
      "text/plain": [
       "<matplotlib.axes._subplots.AxesSubplot at 0x108d73198>"
      ]
     },
     "execution_count": 16,
     "metadata": {},
     "output_type": "execute_result"
    },
    {
     "data": {
      "image/png": "[encoded data removed]",
      "text/plain": [
       "<Figure size 1800x1080 with 2 Axes>"
      ]
     },
     "metadata": {},
     "output_type": "display_data"
    }
   ],
   "source": [
    "corr = data_train.corr()\n",
    "plt.subplots(figsize=(25,15))\n",
    "plt.title(\"Feature Correlations\")\n",
    "sns.heatmap(corr, annot=True, cmap=\"coolwarm\")"
   ]
  },
  {
   "cell_type": "markdown",
   "metadata": {},
   "source": [
    "Some of the correlations seen are between:\n",
    "* srh_adults_cnt & srh_rm_cnt\n",
    "* srh_destination_id & srh_destination_type_id\n",
    "* srh_destination_distance & hotel_continent\n",
    "* is_package & stay duration\n",
    "* srh_room_cnt & srh_adults_cnt\n",
    "\n",
    "There is no distinct correlation between hotel_cluster and any of the features"
   ]
  },
  {
   "cell_type": "markdown",
   "metadata": {},
   "source": [
    "Let us now look at the `destinations` dataset. "
   ]
  },
  {
   "cell_type": "code",
   "execution_count": 17,
   "metadata": {},
   "outputs": [
    {
     "name": "stdout",
     "output_type": "stream",
     "text": [
      "Test Destinations Dataset has 62106 samples with 150 features each.\n"
     ]
    }
   ],
   "source": [
    "# Load the destinations dataset\n",
    "try:\n",
    "    data_destinations = pd.read_csv(\"dataset/destinations.csv\")\n",
    "    print(\"Test Destinations Dataset has {} samples with {} features each.\".format(*data_destinations.shape))\n",
    "except:\n",
    "    print(\"Dataset could not be loaded.\")"
   ]
  },
  {
   "cell_type": "code",
   "execution_count": 18,
   "metadata": {},
   "outputs": [
    {
     "data": {
      "text/html": [
       "<div>\n",
       "<style scoped>\n",
       "    .dataframe tbody tr th:only-of-type {\n",
       "        vertical-align: middle;\n",
       "    }\n",
       "\n",
       "    .dataframe tbody tr th {\n",
       "        vertical-align: top;\n",
       "    }\n",
       "\n",
       "    .dataframe thead th {\n",
       "        text-align: right;\n",
       "    }\n",
       "</style>\n",
       "<table border=\"1\" class=\"dataframe\">\n",
       "  <thead>\n",
       "    <tr style=\"text-align: right;\">\n",
       "      <th></th>\n",
       "      <th>srch_destination_id</th>\n",
       "      <th>d1</th>\n",
       "      <th>d2</th>\n",
       "      <th>d3</th>\n",
       "      <th>d4</th>\n",
       "      <th>d5</th>\n",
       "      <th>d6</th>\n",
       "      <th>d7</th>\n",
       "      <th>d8</th>\n",
       "      <th>d9</th>\n",
       "      <th>...</th>\n",
       "      <th>d140</th>\n",
       "      <th>d141</th>\n",
       "      <th>d142</th>\n",
       "      <th>d143</th>\n",
       "      <th>d144</th>\n",
       "      <th>d145</th>\n",
       "      <th>d146</th>\n",
       "      <th>d147</th>\n",
       "      <th>d148</th>\n",
       "      <th>d149</th>\n",
       "    </tr>\n",
       "  </thead>\n",
       "  <tbody>\n",
       "    <tr>\n",
       "      <th>0</th>\n",
       "      <td>0</td>\n",
       "      <td>-2.198657</td>\n",
       "      <td>-2.198657</td>\n",
       "      <td>-2.198657</td>\n",
       "      <td>-2.198657</td>\n",
       "      <td>-2.198657</td>\n",
       "      <td>-1.897627</td>\n",
       "      <td>-2.198657</td>\n",
       "      <td>-2.198657</td>\n",
       "      <td>-1.897627</td>\n",
       "      <td>...</td>\n",
       "      <td>-2.198657</td>\n",
       "      <td>-2.198657</td>\n",
       "      <td>-2.198657</td>\n",
       "      <td>-2.198657</td>\n",
       "      <td>-2.198657</td>\n",
       "      <td>-2.198657</td>\n",
       "      <td>-2.198657</td>\n",
       "      <td>-2.198657</td>\n",
       "      <td>-2.198657</td>\n",
       "      <td>-2.198657</td>\n",
       "    </tr>\n",
       "    <tr>\n",
       "      <th>1</th>\n",
       "      <td>1</td>\n",
       "      <td>-2.181690</td>\n",
       "      <td>-2.181690</td>\n",
       "      <td>-2.181690</td>\n",
       "      <td>-2.082564</td>\n",
       "      <td>-2.181690</td>\n",
       "      <td>-2.165028</td>\n",
       "      <td>-2.181690</td>\n",
       "      <td>-2.181690</td>\n",
       "      <td>-2.031597</td>\n",
       "      <td>...</td>\n",
       "      <td>-2.165028</td>\n",
       "      <td>-2.181690</td>\n",
       "      <td>-2.165028</td>\n",
       "      <td>-2.181690</td>\n",
       "      <td>-2.181690</td>\n",
       "      <td>-2.165028</td>\n",
       "      <td>-2.181690</td>\n",
       "      <td>-2.181690</td>\n",
       "      <td>-2.181690</td>\n",
       "      <td>-2.181690</td>\n",
       "    </tr>\n",
       "    <tr>\n",
       "      <th>2</th>\n",
       "      <td>2</td>\n",
       "      <td>-2.183490</td>\n",
       "      <td>-2.224164</td>\n",
       "      <td>-2.224164</td>\n",
       "      <td>-2.189562</td>\n",
       "      <td>-2.105819</td>\n",
       "      <td>-2.075407</td>\n",
       "      <td>-2.224164</td>\n",
       "      <td>-2.118483</td>\n",
       "      <td>-2.140393</td>\n",
       "      <td>...</td>\n",
       "      <td>-2.224164</td>\n",
       "      <td>-2.224164</td>\n",
       "      <td>-2.196379</td>\n",
       "      <td>-2.224164</td>\n",
       "      <td>-2.192009</td>\n",
       "      <td>-2.224164</td>\n",
       "      <td>-2.224164</td>\n",
       "      <td>-2.224164</td>\n",
       "      <td>-2.224164</td>\n",
       "      <td>-2.057548</td>\n",
       "    </tr>\n",
       "    <tr>\n",
       "      <th>3</th>\n",
       "      <td>3</td>\n",
       "      <td>-2.177409</td>\n",
       "      <td>-2.177409</td>\n",
       "      <td>-2.177409</td>\n",
       "      <td>-2.177409</td>\n",
       "      <td>-2.177409</td>\n",
       "      <td>-2.115485</td>\n",
       "      <td>-2.177409</td>\n",
       "      <td>-2.177409</td>\n",
       "      <td>-2.177409</td>\n",
       "      <td>...</td>\n",
       "      <td>-2.161081</td>\n",
       "      <td>-2.177409</td>\n",
       "      <td>-2.177409</td>\n",
       "      <td>-2.177409</td>\n",
       "      <td>-2.177409</td>\n",
       "      <td>-2.177409</td>\n",
       "      <td>-2.177409</td>\n",
       "      <td>-2.177409</td>\n",
       "      <td>-2.177409</td>\n",
       "      <td>-2.177409</td>\n",
       "    </tr>\n",
       "    <tr>\n",
       "      <th>4</th>\n",
       "      <td>4</td>\n",
       "      <td>-2.189562</td>\n",
       "      <td>-2.187783</td>\n",
       "      <td>-2.194008</td>\n",
       "      <td>-2.171153</td>\n",
       "      <td>-2.152303</td>\n",
       "      <td>-2.056618</td>\n",
       "      <td>-2.194008</td>\n",
       "      <td>-2.194008</td>\n",
       "      <td>-2.145911</td>\n",
       "      <td>...</td>\n",
       "      <td>-2.187356</td>\n",
       "      <td>-2.194008</td>\n",
       "      <td>-2.191779</td>\n",
       "      <td>-2.194008</td>\n",
       "      <td>-2.194008</td>\n",
       "      <td>-2.185161</td>\n",
       "      <td>-2.194008</td>\n",
       "      <td>-2.194008</td>\n",
       "      <td>-2.194008</td>\n",
       "      <td>-2.188037</td>\n",
       "    </tr>\n",
       "  </tbody>\n",
       "</table>\n",
       "<p>5 rows × 150 columns</p>\n",
       "</div>"
      ],
      "text/plain": [
       "   srch_destination_id        d1        d2        d3        d4        d5  \\\n",
       "0                    0 -2.198657 -2.198657 -2.198657 -2.198657 -2.198657   \n",
       "1                    1 -2.181690 -2.181690 -2.181690 -2.082564 -2.181690   \n",
       "2                    2 -2.183490 -2.224164 -2.224164 -2.189562 -2.105819   \n",
       "3                    3 -2.177409 -2.177409 -2.177409 -2.177409 -2.177409   \n",
       "4                    4 -2.189562 -2.187783 -2.194008 -2.171153 -2.152303   \n",
       "\n",
       "         d6        d7        d8        d9    ...         d140      d141  \\\n",
       "0 -1.897627 -2.198657 -2.198657 -1.897627    ...    -2.198657 -2.198657   \n",
       "1 -2.165028 -2.181690 -2.181690 -2.031597    ...    -2.165028 -2.181690   \n",
       "2 -2.075407 -2.224164 -2.118483 -2.140393    ...    -2.224164 -2.224164   \n",
       "3 -2.115485 -2.177409 -2.177409 -2.177409    ...    -2.161081 -2.177409   \n",
       "4 -2.056618 -2.194008 -2.194008 -2.145911    ...    -2.187356 -2.194008   \n",
       "\n",
       "       d142      d143      d144      d145      d146      d147      d148  \\\n",
       "0 -2.198657 -2.198657 -2.198657 -2.198657 -2.198657 -2.198657 -2.198657   \n",
       "1 -2.165028 -2.181690 -2.181690 -2.165028 -2.181690 -2.181690 -2.181690   \n",
       "2 -2.196379 -2.224164 -2.192009 -2.224164 -2.224164 -2.224164 -2.224164   \n",
       "3 -2.177409 -2.177409 -2.177409 -2.177409 -2.177409 -2.177409 -2.177409   \n",
       "4 -2.191779 -2.194008 -2.194008 -2.185161 -2.194008 -2.194008 -2.194008   \n",
       "\n",
       "       d149  \n",
       "0 -2.198657  \n",
       "1 -2.181690  \n",
       "2 -2.057548  \n",
       "3 -2.177409  \n",
       "4 -2.188037  \n",
       "\n",
       "[5 rows x 150 columns]"
      ]
     },
     "execution_count": 18,
     "metadata": {},
     "output_type": "execute_result"
    }
   ],
   "source": [
    "data_destinations.head()"
   ]
  },
  {
   "cell_type": "markdown",
   "metadata": {},
   "source": [
    "### Dimentionality Reduction"
   ]
  },
  {
   "cell_type": "markdown",
   "metadata": {},
   "source": [
    "There are 150 features in this dataset. We will reduce the number of features using PCA. "
   ]
  },
  {
   "cell_type": "code",
   "execution_count": 19,
   "metadata": {},
   "outputs": [],
   "source": [
    "srch_destination_id = data_destinations[\"srch_destination_id\"]\n",
    "latent_features_data = data_destinations.drop([\"srch_destination_id\"], axis=1)"
   ]
  },
  {
   "cell_type": "code",
   "execution_count": 20,
   "metadata": {},
   "outputs": [
    {
     "data": {
      "text/html": [
       "<div>\n",
       "<style scoped>\n",
       "    .dataframe tbody tr th:only-of-type {\n",
       "        vertical-align: middle;\n",
       "    }\n",
       "\n",
       "    .dataframe tbody tr th {\n",
       "        vertical-align: top;\n",
       "    }\n",
       "\n",
       "    .dataframe thead th {\n",
       "        text-align: right;\n",
       "    }\n",
       "</style>\n",
       "<table border=\"1\" class=\"dataframe\">\n",
       "  <thead>\n",
       "    <tr style=\"text-align: right;\">\n",
       "      <th></th>\n",
       "      <th>d1</th>\n",
       "      <th>d2</th>\n",
       "      <th>d3</th>\n",
       "      <th>d4</th>\n",
       "      <th>d5</th>\n",
       "      <th>d6</th>\n",
       "      <th>d7</th>\n",
       "      <th>d8</th>\n",
       "      <th>d9</th>\n",
       "      <th>d10</th>\n",
       "      <th>...</th>\n",
       "      <th>d140</th>\n",
       "      <th>d141</th>\n",
       "      <th>d142</th>\n",
       "      <th>d143</th>\n",
       "      <th>d144</th>\n",
       "      <th>d145</th>\n",
       "      <th>d146</th>\n",
       "      <th>d147</th>\n",
       "      <th>d148</th>\n",
       "      <th>d149</th>\n",
       "    </tr>\n",
       "  </thead>\n",
       "  <tbody>\n",
       "    <tr>\n",
       "      <th>min</th>\n",
       "      <td>-2.597617</td>\n",
       "      <td>-2.671613</td>\n",
       "      <td>-2.671613</td>\n",
       "      <td>-2.671613</td>\n",
       "      <td>-2.671613</td>\n",
       "      <td>-2.344165</td>\n",
       "      <td>-2.671613</td>\n",
       "      <td>-2.671613</td>\n",
       "      <td>-2.495544</td>\n",
       "      <td>-2.496930</td>\n",
       "      <td>...</td>\n",
       "      <td>-2.620769</td>\n",
       "      <td>-2.671613</td>\n",
       "      <td>-2.671613</td>\n",
       "      <td>-2.671613</td>\n",
       "      <td>-2.671613</td>\n",
       "      <td>-2.671613</td>\n",
       "      <td>-2.671613</td>\n",
       "      <td>-2.671613</td>\n",
       "      <td>-2.671613</td>\n",
       "      <td>-2.671613</td>\n",
       "    </tr>\n",
       "    <tr>\n",
       "      <th>max</th>\n",
       "      <td>-1.596004</td>\n",
       "      <td>-1.341325</td>\n",
       "      <td>-1.917826</td>\n",
       "      <td>-1.814585</td>\n",
       "      <td>-1.607558</td>\n",
       "      <td>-1.209058</td>\n",
       "      <td>-1.474441</td>\n",
       "      <td>-1.879678</td>\n",
       "      <td>-0.977219</td>\n",
       "      <td>-1.791073</td>\n",
       "      <td>...</td>\n",
       "      <td>-1.855317</td>\n",
       "      <td>-0.960356</td>\n",
       "      <td>-1.357408</td>\n",
       "      <td>-1.775218</td>\n",
       "      <td>-1.790435</td>\n",
       "      <td>-1.799341</td>\n",
       "      <td>-1.335962</td>\n",
       "      <td>-1.816892</td>\n",
       "      <td>-1.718778</td>\n",
       "      <td>-1.500309</td>\n",
       "    </tr>\n",
       "  </tbody>\n",
       "</table>\n",
       "<p>2 rows × 149 columns</p>\n",
       "</div>"
      ],
      "text/plain": [
       "           d1        d2        d3        d4        d5        d6        d7  \\\n",
       "min -2.597617 -2.671613 -2.671613 -2.671613 -2.671613 -2.344165 -2.671613   \n",
       "max -1.596004 -1.341325 -1.917826 -1.814585 -1.607558 -1.209058 -1.474441   \n",
       "\n",
       "           d8        d9       d10    ...         d140      d141      d142  \\\n",
       "min -2.671613 -2.495544 -2.496930    ...    -2.620769 -2.671613 -2.671613   \n",
       "max -1.879678 -0.977219 -1.791073    ...    -1.855317 -0.960356 -1.357408   \n",
       "\n",
       "         d143      d144      d145      d146      d147      d148      d149  \n",
       "min -2.671613 -2.671613 -2.671613 -2.671613 -2.671613 -2.671613 -2.671613  \n",
       "max -1.775218 -1.790435 -1.799341 -1.335962 -1.816892 -1.718778 -1.500309  \n",
       "\n",
       "[2 rows x 149 columns]"
      ]
     },
     "execution_count": 20,
     "metadata": {},
     "output_type": "execute_result"
    }
   ],
   "source": [
    "latent_features_data.describe().loc[['min','max']]"
   ]
  },
  {
   "cell_type": "code",
   "execution_count": 21,
   "metadata": {},
   "outputs": [
    {
     "data": {
      "text/html": [
       "<div>\n",
       "<style scoped>\n",
       "    .dataframe tbody tr th:only-of-type {\n",
       "        vertical-align: middle;\n",
       "    }\n",
       "\n",
       "    .dataframe tbody tr th {\n",
       "        vertical-align: top;\n",
       "    }\n",
       "\n",
       "    .dataframe thead th {\n",
       "        text-align: right;\n",
       "    }\n",
       "</style>\n",
       "<table border=\"1\" class=\"dataframe\">\n",
       "  <thead>\n",
       "    <tr style=\"text-align: right;\">\n",
       "      <th></th>\n",
       "      <th>d1</th>\n",
       "      <th>d2</th>\n",
       "      <th>d3</th>\n",
       "      <th>d4</th>\n",
       "      <th>d5</th>\n",
       "      <th>d6</th>\n",
       "      <th>d7</th>\n",
       "      <th>d8</th>\n",
       "      <th>d9</th>\n",
       "      <th>d10</th>\n",
       "      <th>...</th>\n",
       "      <th>d140</th>\n",
       "      <th>d141</th>\n",
       "      <th>d142</th>\n",
       "      <th>d143</th>\n",
       "      <th>d144</th>\n",
       "      <th>d145</th>\n",
       "      <th>d146</th>\n",
       "      <th>d147</th>\n",
       "      <th>d148</th>\n",
       "      <th>d149</th>\n",
       "    </tr>\n",
       "  </thead>\n",
       "  <tbody>\n",
       "    <tr>\n",
       "      <th>min</th>\n",
       "      <td>0.0</td>\n",
       "      <td>0.0</td>\n",
       "      <td>0.0</td>\n",
       "      <td>0.0</td>\n",
       "      <td>0.0</td>\n",
       "      <td>0.0</td>\n",
       "      <td>0.0</td>\n",
       "      <td>0.0</td>\n",
       "      <td>0.0</td>\n",
       "      <td>0.0</td>\n",
       "      <td>...</td>\n",
       "      <td>0.0</td>\n",
       "      <td>0.0</td>\n",
       "      <td>0.0</td>\n",
       "      <td>0.0</td>\n",
       "      <td>0.0</td>\n",
       "      <td>0.0</td>\n",
       "      <td>0.0</td>\n",
       "      <td>0.0</td>\n",
       "      <td>0.0</td>\n",
       "      <td>0.0</td>\n",
       "    </tr>\n",
       "    <tr>\n",
       "      <th>max</th>\n",
       "      <td>1.0</td>\n",
       "      <td>1.0</td>\n",
       "      <td>1.0</td>\n",
       "      <td>1.0</td>\n",
       "      <td>1.0</td>\n",
       "      <td>1.0</td>\n",
       "      <td>1.0</td>\n",
       "      <td>1.0</td>\n",
       "      <td>1.0</td>\n",
       "      <td>1.0</td>\n",
       "      <td>...</td>\n",
       "      <td>1.0</td>\n",
       "      <td>1.0</td>\n",
       "      <td>1.0</td>\n",
       "      <td>1.0</td>\n",
       "      <td>1.0</td>\n",
       "      <td>1.0</td>\n",
       "      <td>1.0</td>\n",
       "      <td>1.0</td>\n",
       "      <td>1.0</td>\n",
       "      <td>1.0</td>\n",
       "    </tr>\n",
       "  </tbody>\n",
       "</table>\n",
       "<p>2 rows × 149 columns</p>\n",
       "</div>"
      ],
      "text/plain": [
       "      d1   d2   d3   d4   d5   d6   d7   d8   d9  d10  ...   d140  d141  d142  \\\n",
       "min  0.0  0.0  0.0  0.0  0.0  0.0  0.0  0.0  0.0  0.0  ...    0.0   0.0   0.0   \n",
       "max  1.0  1.0  1.0  1.0  1.0  1.0  1.0  1.0  1.0  1.0  ...    1.0   1.0   1.0   \n",
       "\n",
       "     d143  d144  d145  d146  d147  d148  d149  \n",
       "min   0.0   0.0   0.0   0.0   0.0   0.0   0.0  \n",
       "max   1.0   1.0   1.0   1.0   1.0   1.0   1.0  \n",
       "\n",
       "[2 rows x 149 columns]"
      ]
     },
     "execution_count": 21,
     "metadata": {},
     "output_type": "execute_result"
    }
   ],
   "source": [
    "from sklearn.preprocessing import MinMaxScaler\n",
    "\n",
    "scaler = MinMaxScaler() \n",
    "\n",
    "dest_features = [\"d{0}\".format(i + 1) for i in range(149)]\n",
    "latent_features_data_normalized = latent_features_data.copy()\n",
    "latent_features_data_normalized[dest_features] = scaler.fit_transform(latent_features_data_normalized[dest_features])\n",
    "latent_features_data_normalized.describe().loc[['min','max']]"
   ]
  },
  {
   "cell_type": "markdown",
   "metadata": {},
   "source": [
    "#### Principal Component Analysis"
   ]
  },
  {
   "cell_type": "code",
   "execution_count": 22,
   "metadata": {},
   "outputs": [
    {
     "data": {
      "text/html": [
       "<div>\n",
       "<style scoped>\n",
       "    .dataframe tbody tr th:only-of-type {\n",
       "        vertical-align: middle;\n",
       "    }\n",
       "\n",
       "    .dataframe tbody tr th {\n",
       "        vertical-align: top;\n",
       "    }\n",
       "\n",
       "    .dataframe thead th {\n",
       "        text-align: right;\n",
       "    }\n",
       "</style>\n",
       "<table border=\"1\" class=\"dataframe\">\n",
       "  <thead>\n",
       "    <tr style=\"text-align: right;\">\n",
       "      <th></th>\n",
       "      <th>Cumulative Explained Variance</th>\n",
       "    </tr>\n",
       "  </thead>\n",
       "  <tbody>\n",
       "    <tr>\n",
       "      <th>Dimension 1</th>\n",
       "      <td>0.5414</td>\n",
       "    </tr>\n",
       "    <tr>\n",
       "      <th>Dimension 2</th>\n",
       "      <td>0.6149</td>\n",
       "    </tr>\n",
       "    <tr>\n",
       "      <th>Dimension 3</th>\n",
       "      <td>0.6555</td>\n",
       "    </tr>\n",
       "    <tr>\n",
       "      <th>Dimension 4</th>\n",
       "      <td>0.6778</td>\n",
       "    </tr>\n",
       "    <tr>\n",
       "      <th>Dimension 5</th>\n",
       "      <td>0.6979</td>\n",
       "    </tr>\n",
       "    <tr>\n",
       "      <th>Dimension 6</th>\n",
       "      <td>0.7152</td>\n",
       "    </tr>\n",
       "    <tr>\n",
       "      <th>Dimension 7</th>\n",
       "      <td>0.7295</td>\n",
       "    </tr>\n",
       "    <tr>\n",
       "      <th>Dimension 8</th>\n",
       "      <td>0.7428</td>\n",
       "    </tr>\n",
       "    <tr>\n",
       "      <th>Dimension 9</th>\n",
       "      <td>0.7533</td>\n",
       "    </tr>\n",
       "    <tr>\n",
       "      <th>Dimension 10</th>\n",
       "      <td>0.7627</td>\n",
       "    </tr>\n",
       "    <tr>\n",
       "      <th>Dimension 11</th>\n",
       "      <td>0.7713</td>\n",
       "    </tr>\n",
       "    <tr>\n",
       "      <th>Dimension 12</th>\n",
       "      <td>0.7793</td>\n",
       "    </tr>\n",
       "    <tr>\n",
       "      <th>Dimension 13</th>\n",
       "      <td>0.7868</td>\n",
       "    </tr>\n",
       "    <tr>\n",
       "      <th>Dimension 14</th>\n",
       "      <td>0.7940</td>\n",
       "    </tr>\n",
       "    <tr>\n",
       "      <th>Dimension 15</th>\n",
       "      <td>0.8006</td>\n",
       "    </tr>\n",
       "    <tr>\n",
       "      <th>Dimension 16</th>\n",
       "      <td>0.8068</td>\n",
       "    </tr>\n",
       "    <tr>\n",
       "      <th>Dimension 17</th>\n",
       "      <td>0.8127</td>\n",
       "    </tr>\n",
       "    <tr>\n",
       "      <th>Dimension 18</th>\n",
       "      <td>0.8184</td>\n",
       "    </tr>\n",
       "    <tr>\n",
       "      <th>Dimension 19</th>\n",
       "      <td>0.8237</td>\n",
       "    </tr>\n",
       "    <tr>\n",
       "      <th>Dimension 20</th>\n",
       "      <td>0.8288</td>\n",
       "    </tr>\n",
       "    <tr>\n",
       "      <th>Dimension 21</th>\n",
       "      <td>0.8337</td>\n",
       "    </tr>\n",
       "    <tr>\n",
       "      <th>Dimension 22</th>\n",
       "      <td>0.8385</td>\n",
       "    </tr>\n",
       "    <tr>\n",
       "      <th>Dimension 23</th>\n",
       "      <td>0.8430</td>\n",
       "    </tr>\n",
       "    <tr>\n",
       "      <th>Dimension 24</th>\n",
       "      <td>0.8473</td>\n",
       "    </tr>\n",
       "    <tr>\n",
       "      <th>Dimension 25</th>\n",
       "      <td>0.8516</td>\n",
       "    </tr>\n",
       "    <tr>\n",
       "      <th>Dimension 26</th>\n",
       "      <td>0.8555</td>\n",
       "    </tr>\n",
       "    <tr>\n",
       "      <th>Dimension 27</th>\n",
       "      <td>0.8594</td>\n",
       "    </tr>\n",
       "    <tr>\n",
       "      <th>Dimension 28</th>\n",
       "      <td>0.8631</td>\n",
       "    </tr>\n",
       "    <tr>\n",
       "      <th>Dimension 29</th>\n",
       "      <td>0.8668</td>\n",
       "    </tr>\n",
       "    <tr>\n",
       "      <th>Dimension 30</th>\n",
       "      <td>0.8703</td>\n",
       "    </tr>\n",
       "    <tr>\n",
       "      <th>...</th>\n",
       "      <td>...</td>\n",
       "    </tr>\n",
       "    <tr>\n",
       "      <th>Dimension 120</th>\n",
       "      <td>0.9943</td>\n",
       "    </tr>\n",
       "    <tr>\n",
       "      <th>Dimension 121</th>\n",
       "      <td>0.9947</td>\n",
       "    </tr>\n",
       "    <tr>\n",
       "      <th>Dimension 122</th>\n",
       "      <td>0.9951</td>\n",
       "    </tr>\n",
       "    <tr>\n",
       "      <th>Dimension 123</th>\n",
       "      <td>0.9955</td>\n",
       "    </tr>\n",
       "    <tr>\n",
       "      <th>Dimension 124</th>\n",
       "      <td>0.9959</td>\n",
       "    </tr>\n",
       "    <tr>\n",
       "      <th>Dimension 125</th>\n",
       "      <td>0.9963</td>\n",
       "    </tr>\n",
       "    <tr>\n",
       "      <th>Dimension 126</th>\n",
       "      <td>0.9966</td>\n",
       "    </tr>\n",
       "    <tr>\n",
       "      <th>Dimension 127</th>\n",
       "      <td>0.9969</td>\n",
       "    </tr>\n",
       "    <tr>\n",
       "      <th>Dimension 128</th>\n",
       "      <td>0.9972</td>\n",
       "    </tr>\n",
       "    <tr>\n",
       "      <th>Dimension 129</th>\n",
       "      <td>0.9975</td>\n",
       "    </tr>\n",
       "    <tr>\n",
       "      <th>Dimension 130</th>\n",
       "      <td>0.9978</td>\n",
       "    </tr>\n",
       "    <tr>\n",
       "      <th>Dimension 131</th>\n",
       "      <td>0.9980</td>\n",
       "    </tr>\n",
       "    <tr>\n",
       "      <th>Dimension 132</th>\n",
       "      <td>0.9982</td>\n",
       "    </tr>\n",
       "    <tr>\n",
       "      <th>Dimension 133</th>\n",
       "      <td>0.9984</td>\n",
       "    </tr>\n",
       "    <tr>\n",
       "      <th>Dimension 134</th>\n",
       "      <td>0.9986</td>\n",
       "    </tr>\n",
       "    <tr>\n",
       "      <th>Dimension 135</th>\n",
       "      <td>0.9988</td>\n",
       "    </tr>\n",
       "    <tr>\n",
       "      <th>Dimension 136</th>\n",
       "      <td>0.9990</td>\n",
       "    </tr>\n",
       "    <tr>\n",
       "      <th>Dimension 137</th>\n",
       "      <td>0.9992</td>\n",
       "    </tr>\n",
       "    <tr>\n",
       "      <th>Dimension 138</th>\n",
       "      <td>0.9993</td>\n",
       "    </tr>\n",
       "    <tr>\n",
       "      <th>Dimension 139</th>\n",
       "      <td>0.9994</td>\n",
       "    </tr>\n",
       "    <tr>\n",
       "      <th>Dimension 140</th>\n",
       "      <td>0.9995</td>\n",
       "    </tr>\n",
       "    <tr>\n",
       "      <th>Dimension 141</th>\n",
       "      <td>0.9996</td>\n",
       "    </tr>\n",
       "    <tr>\n",
       "      <th>Dimension 142</th>\n",
       "      <td>0.9997</td>\n",
       "    </tr>\n",
       "    <tr>\n",
       "      <th>Dimension 143</th>\n",
       "      <td>0.9998</td>\n",
       "    </tr>\n",
       "    <tr>\n",
       "      <th>Dimension 144</th>\n",
       "      <td>0.9999</td>\n",
       "    </tr>\n",
       "    <tr>\n",
       "      <th>Dimension 145</th>\n",
       "      <td>1.0000</td>\n",
       "    </tr>\n",
       "    <tr>\n",
       "      <th>Dimension 146</th>\n",
       "      <td>1.0000</td>\n",
       "    </tr>\n",
       "    <tr>\n",
       "      <th>Dimension 147</th>\n",
       "      <td>1.0000</td>\n",
       "    </tr>\n",
       "    <tr>\n",
       "      <th>Dimension 148</th>\n",
       "      <td>1.0000</td>\n",
       "    </tr>\n",
       "    <tr>\n",
       "      <th>Dimension 149</th>\n",
       "      <td>1.0000</td>\n",
       "    </tr>\n",
       "  </tbody>\n",
       "</table>\n",
       "<p>149 rows × 1 columns</p>\n",
       "</div>"
      ],
      "text/plain": [
       "               Cumulative Explained Variance\n",
       "Dimension 1                           0.5414\n",
       "Dimension 2                           0.6149\n",
       "Dimension 3                           0.6555\n",
       "Dimension 4                           0.6778\n",
       "Dimension 5                           0.6979\n",
       "Dimension 6                           0.7152\n",
       "Dimension 7                           0.7295\n",
       "Dimension 8                           0.7428\n",
       "Dimension 9                           0.7533\n",
       "Dimension 10                          0.7627\n",
       "Dimension 11                          0.7713\n",
       "Dimension 12                          0.7793\n",
       "Dimension 13                          0.7868\n",
       "Dimension 14                          0.7940\n",
       "Dimension 15                          0.8006\n",
       "Dimension 16                          0.8068\n",
       "Dimension 17                          0.8127\n",
       "Dimension 18                          0.8184\n",
       "Dimension 19                          0.8237\n",
       "Dimension 20                          0.8288\n",
       "Dimension 21                          0.8337\n",
       "Dimension 22                          0.8385\n",
       "Dimension 23                          0.8430\n",
       "Dimension 24                          0.8473\n",
       "Dimension 25                          0.8516\n",
       "Dimension 26                          0.8555\n",
       "Dimension 27                          0.8594\n",
       "Dimension 28                          0.8631\n",
       "Dimension 29                          0.8668\n",
       "Dimension 30                          0.8703\n",
       "...                                      ...\n",
       "Dimension 120                         0.9943\n",
       "Dimension 121                         0.9947\n",
       "Dimension 122                         0.9951\n",
       "Dimension 123                         0.9955\n",
       "Dimension 124                         0.9959\n",
       "Dimension 125                         0.9963\n",
       "Dimension 126                         0.9966\n",
       "Dimension 127                         0.9969\n",
       "Dimension 128                         0.9972\n",
       "Dimension 129                         0.9975\n",
       "Dimension 130                         0.9978\n",
       "Dimension 131                         0.9980\n",
       "Dimension 132                         0.9982\n",
       "Dimension 133                         0.9984\n",
       "Dimension 134                         0.9986\n",
       "Dimension 135                         0.9988\n",
       "Dimension 136                         0.9990\n",
       "Dimension 137                         0.9992\n",
       "Dimension 138                         0.9993\n",
       "Dimension 139                         0.9994\n",
       "Dimension 140                         0.9995\n",
       "Dimension 141                         0.9996\n",
       "Dimension 142                         0.9997\n",
       "Dimension 143                         0.9998\n",
       "Dimension 144                         0.9999\n",
       "Dimension 145                         1.0000\n",
       "Dimension 146                         1.0000\n",
       "Dimension 147                         1.0000\n",
       "Dimension 148                         1.0000\n",
       "Dimension 149                         1.0000\n",
       "\n",
       "[149 rows x 1 columns]"
      ]
     },
     "metadata": {},
     "output_type": "display_data"
    }
   ],
   "source": [
    "from sklearn.decomposition import PCA\n",
    "\n",
    "pca = PCA()\n",
    "pca.fit(latent_features_data_normalized)\n",
    "\n",
    "pca_results = vs.pca_results(latent_features_data_normalized, pca)\n",
    "display(pca_results[\"Explained Variance\"].cumsum().to_frame(\"Cumulative Explained Variance\"))"
   ]
  },
  {
   "cell_type": "markdown",
   "metadata": {},
   "source": [
    "~70% variance in the data is explained by the first 5 principal components.\n",
    "\n",
    "Visualizing this provides a clearer view. Visualization code is based on [this](https://www.kaggle.com/fabiendaniel/customer-segmentation) Kaggle notebook. "
   ]
  },
  {
   "cell_type": "code",
   "execution_count": 23,
   "metadata": {},
   "outputs": [
    {
     "data": {
      "image/png": "[encoded data removed]",
      "text/plain": [
       "<Figure size 1440x360 with 1 Axes>"
      ]
     },
     "metadata": {},
     "output_type": "display_data"
    }
   ],
   "source": [
    "fig, ax = plt.subplots(figsize=(20, 5))\n",
    "sns.set(font_scale=1)\n",
    "plt.step(range(latent_features_data_normalized.shape[1]), pca.explained_variance_ratio_.cumsum(), where='mid',\n",
    "         label='cumulative explained variance')\n",
    "sns.barplot(np.arange(1,latent_features_data_normalized.shape[1]+1), pca.explained_variance_ratio_, alpha=0.5, color = 'g',\n",
    "            label='individual explained variance')\n",
    "plt.xlim(0, 100)\n",
    "\n",
    "ax.set_xticklabels([s if int(s.get_text())%2 == 0 else '' for s in ax.get_xticklabels()])\n",
    "\n",
    "plt.ylabel('Explained variance', fontsize = 14)\n",
    "plt.xlabel('Principal components', fontsize = 14)\n",
    "plt.title('Variance explained by principal components', fontsize = 14)\n",
    "plt.legend(loc='upper left', fontsize = 13);"
   ]
  },
  {
   "cell_type": "code",
   "execution_count": 24,
   "metadata": {},
   "outputs": [
    {
     "data": {
      "text/html": [
       "<div>\n",
       "<style scoped>\n",
       "    .dataframe tbody tr th:only-of-type {\n",
       "        vertical-align: middle;\n",
       "    }\n",
       "\n",
       "    .dataframe tbody tr th {\n",
       "        vertical-align: top;\n",
       "    }\n",
       "\n",
       "    .dataframe thead th {\n",
       "        text-align: right;\n",
       "    }\n",
       "</style>\n",
       "<table border=\"1\" class=\"dataframe\">\n",
       "  <thead>\n",
       "    <tr style=\"text-align: right;\">\n",
       "      <th></th>\n",
       "      <th>srch_destination_id</th>\n",
       "      <th>d1</th>\n",
       "      <th>d2</th>\n",
       "      <th>d3</th>\n",
       "      <th>d4</th>\n",
       "      <th>d5</th>\n",
       "    </tr>\n",
       "  </thead>\n",
       "  <tbody>\n",
       "    <tr>\n",
       "      <th>0</th>\n",
       "      <td>0</td>\n",
       "      <td>-0.035081</td>\n",
       "      <td>0.114494</td>\n",
       "      <td>-0.050162</td>\n",
       "      <td>-0.097483</td>\n",
       "      <td>0.065729</td>\n",
       "    </tr>\n",
       "    <tr>\n",
       "      <th>1</th>\n",
       "      <td>1</td>\n",
       "      <td>-0.429997</td>\n",
       "      <td>0.039974</td>\n",
       "      <td>0.068071</td>\n",
       "      <td>0.025081</td>\n",
       "      <td>-0.031307</td>\n",
       "    </tr>\n",
       "    <tr>\n",
       "      <th>2</th>\n",
       "      <td>2</td>\n",
       "      <td>0.054116</td>\n",
       "      <td>0.015300</td>\n",
       "      <td>0.073246</td>\n",
       "      <td>0.168669</td>\n",
       "      <td>0.132129</td>\n",
       "    </tr>\n",
       "    <tr>\n",
       "      <th>3</th>\n",
       "      <td>3</td>\n",
       "      <td>-0.473205</td>\n",
       "      <td>-0.024389</td>\n",
       "      <td>0.019545</td>\n",
       "      <td>0.000167</td>\n",
       "      <td>-0.025236</td>\n",
       "    </tr>\n",
       "    <tr>\n",
       "      <th>4</th>\n",
       "      <td>4</td>\n",
       "      <td>-0.208739</td>\n",
       "      <td>-0.037167</td>\n",
       "      <td>0.014076</td>\n",
       "      <td>-0.029207</td>\n",
       "      <td>0.005117</td>\n",
       "    </tr>\n",
       "  </tbody>\n",
       "</table>\n",
       "</div>"
      ],
      "text/plain": [
       "   srch_destination_id        d1        d2        d3        d4        d5\n",
       "0                    0 -0.035081  0.114494 -0.050162 -0.097483  0.065729\n",
       "1                    1 -0.429997  0.039974  0.068071  0.025081 -0.031307\n",
       "2                    2  0.054116  0.015300  0.073246  0.168669  0.132129\n",
       "3                    3 -0.473205 -0.024389  0.019545  0.000167 -0.025236\n",
       "4                    4 -0.208739 -0.037167  0.014076 -0.029207  0.005117"
      ]
     },
     "execution_count": 24,
     "metadata": {},
     "output_type": "execute_result"
    }
   ],
   "source": [
    "pca = PCA(n_components=5, random_state=1)\n",
    "destinations_reduced_data = pca.fit_transform(latent_features_data_normalized)\n",
    "\n",
    "destinations_reduced_data = pd.DataFrame(destinations_reduced_data, columns = [\"d{0}\".format(i + 1) for i in range(5)])\n",
    "destinations_reduced_data = pd.concat([data_destinations[\"srch_destination_id\"], destinations_reduced_data], axis=1)\n",
    "destinations_reduced_data.head()"
   ]
  },
  {
   "cell_type": "code",
   "execution_count": 25,
   "metadata": {},
   "outputs": [],
   "source": [
    "data_train_final = pd.merge(data_train, destinations_reduced_data, how='left', on=\"srch_destination_id\")"
   ]
  },
  {
   "cell_type": "code",
   "execution_count": 26,
   "metadata": {},
   "outputs": [],
   "source": [
    "# Fill NaNs in orig_destination_distance with the mean of the values\n",
    "data_train_final['orig_destination_distance'] = data_train_final['orig_destination_distance'].fillna((data_train_final['orig_destination_distance'].mean()))\n"
   ]
  },
  {
   "cell_type": "code",
   "execution_count": 27,
   "metadata": {},
   "outputs": [],
   "source": [
    "data_train_final.isna().sum()\n",
    "data_train_final.fillna(0, inplace=True)"
   ]
  },
  {
   "cell_type": "markdown",
   "metadata": {},
   "source": [
    "#### Feature Importances"
   ]
  },
  {
   "cell_type": "code",
   "execution_count": 28,
   "metadata": {},
   "outputs": [],
   "source": [
    "from sklearn.model_selection import train_test_split\n",
    "\n",
    "y=data_train_final[\"hotel_cluster\"]\n",
    "X=data_train_final.drop([\"hotel_cluster\"], axis=1)\n",
    "\n",
    "X_train, X_test, y_train, y_test = train_test_split(X, y, test_size=0.20, random_state=42) # 80% training and 20% test\n"
   ]
  },
  {
   "cell_type": "code",
   "execution_count": 29,
   "metadata": {},
   "outputs": [
    {
     "name": "stderr",
     "output_type": "stream",
     "text": [
      "[Parallel(n_jobs=-1)]: Done   6 out of  10 | elapsed:  1.0min remaining:   40.4s\n",
      "[Parallel(n_jobs=-1)]: Done  10 out of  10 | elapsed:  1.5min finished\n"
     ]
    }
   ],
   "source": [
    "from sklearn.ensemble import RandomForestClassifier\n",
    "from sklearn import metrics\n",
    "\n",
    "model = RandomForestClassifier(n_jobs=-1, verbose=1, random_state=42)\n",
    "model.fit(X_train, y_train)\n",
    "\n",
    "importances = model.feature_importances_"
   ]
  },
  {
   "cell_type": "code",
   "execution_count": 30,
   "metadata": {},
   "outputs": [
    {
     "data": {
      "image/png": "[encoded data removed]",
      "text/plain": [
       "<Figure size 1440x720 with 1 Axes>"
      ]
     },
     "metadata": {},
     "output_type": "display_data"
    }
   ],
   "source": [
    "feature_imp = pd.DataFrame({'features': X_train.columns, 'importance': importances })\n",
    "feature_imp.sort_values(by='importance', ascending=False).plot(kind='bar', x='features', figsize=(20,10))\n",
    "plt.ylabel('Feature Importance')\n",
    "plt.title(\"Feature Importances\")\n",
    "plt.show()"
   ]
  },
  {
   "cell_type": "code",
   "execution_count": 31,
   "metadata": {},
   "outputs": [],
   "source": [
    "data_train_final = data_train_final.drop([\"cnt\"], axis=1)"
   ]
  },
  {
   "cell_type": "markdown",
   "metadata": {},
   "source": [
    "### Evaluating Model Performance\n",
    "#### Naive Predictor "
   ]
  },
  {
   "cell_type": "code",
   "execution_count": 32,
   "metadata": {},
   "outputs": [],
   "source": [
    "from average_precision import mapk"
   ]
  },
  {
   "cell_type": "code",
   "execution_count": 33,
   "metadata": {},
   "outputs": [],
   "source": [
    "target = data_train_final[\"hotel_cluster\"].tolist()\n",
    "target = np.array(target).reshape(-1, 1)"
   ]
  },
  {
   "cell_type": "code",
   "execution_count": 34,
   "metadata": {},
   "outputs": [],
   "source": [
    "predictions = [list(top5_hotel_clusters.index) for i in range(100)]"
   ]
  },
  {
   "cell_type": "code",
   "execution_count": 35,
   "metadata": {},
   "outputs": [
    {
     "data": {
      "text/plain": [
       "0.033666666666666664"
      ]
     },
     "execution_count": 35,
     "metadata": {},
     "output_type": "execute_result"
    }
   ],
   "source": [
    "map5_naive = mapk(target, predictions, k=5)\n",
    "map5_naive"
   ]
  },
  {
   "cell_type": "code",
   "execution_count": 36,
   "metadata": {},
   "outputs": [
    {
     "data": {
      "text/plain": [
       "4971"
      ]
     },
     "execution_count": 36,
     "metadata": {},
     "output_type": "execute_result"
    }
   ],
   "source": [
    "import gc\n",
    "del data_train_raw\n",
    "del data_destinations\n",
    "del data_test\n",
    "gc.collect()"
   ]
  },
  {
   "cell_type": "markdown",
   "metadata": {},
   "source": [
    "#### Supervised Learning Models"
   ]
  },
  {
   "cell_type": "markdown",
   "metadata": {},
   "source": [
    "Due to the large size of the dataset, pick 15,000 user IDs at random create a reduced dataset with those user IDs only. "
   ]
  },
  {
   "cell_type": "code",
   "execution_count": 37,
   "metadata": {},
   "outputs": [
    {
     "name": "stdout",
     "output_type": "stream",
     "text": [
      "Reduced dataset contains 54670 samples and 28 features\n"
     ]
    }
   ],
   "source": [
    "import random\n",
    "\n",
    "unique_users = data_train_final['user_id'].unique()\n",
    "sampled_user_ids = random.sample(list(unique_users), 15000)\n",
    "data_train_reduced = data_train_final[data_train_final['user_id'].isin(sampled_user_ids)]\n",
    "\n",
    "print(\"Reduced dataset contains {} samples and {} features\".format(data_train_reduced.shape[0], data_train_reduced.shape[1]))"
   ]
  },
  {
   "cell_type": "code",
   "execution_count": 38,
   "metadata": {},
   "outputs": [],
   "source": [
    "def mapk_scorer(actual, predicted, k):\n",
    "    predictions = []\n",
    "    for p in predicted:\n",
    "        predictions.append(p.argsort()[::-1][:5]) # Pick the 5 most probable \n",
    "\n",
    "    target = actual.tolist()\n",
    "    target = np.array(target).reshape(-1, 1)        \n",
    "    return mapk(target, predictions, k)"
   ]
  },
  {
   "cell_type": "code",
   "execution_count": 39,
   "metadata": {},
   "outputs": [],
   "source": [
    "from sklearn.model_selection import cross_val_score\n",
    "from sklearn.metrics import make_scorer\n",
    "\n",
    "def map5_scores(clf, data):\n",
    "    predictors = [c for c in data.columns if c not in [\"hotel_cluster\"]]\n",
    "    scores = cross_val_score(clf, data[predictors], data['hotel_cluster'], cv=3, scoring = make_scorer(mapk_scorer, needs_proba=True, k=5), verbose=1)\n",
    "    return scores"
   ]
  },
  {
   "cell_type": "code",
   "execution_count": 40,
   "metadata": {},
   "outputs": [],
   "source": [
    "def evaluate_classifiers(classifiers, dataset):\n",
    "    results = []\n",
    "\n",
    "    for clf in classifiers:\n",
    "        clf_name = clf.__class__.__name__\n",
    "\n",
    "        start = time()    \n",
    "        scores = map5_scores(clf, dataset)\n",
    "        end = time()\n",
    "        print(\"Classifier: {}; MAP@5 scores: {}\".format(clf_name, scores))\n",
    "        results.append({\"Classifer\": clf_name, \"Mean MAP@5\": scores.mean(), \"Time taken (s)\": \"{:.2f}\".format(end-start)})\n",
    "\n",
    "    return results"
   ]
  },
  {
   "cell_type": "markdown",
   "metadata": {},
   "source": [
    "We will initially use the default parameters for all the models."
   ]
  },
  {
   "cell_type": "code",
   "execution_count": 41,
   "metadata": {},
   "outputs": [
    {
     "name": "stderr",
     "output_type": "stream",
     "text": [
      "[Parallel(n_jobs=1)]: Done   3 out of   3 | elapsed:    3.4s finished\n"
     ]
    },
    {
     "name": "stdout",
     "output_type": "stream",
     "text": [
      "Classifier: BernoulliNB; MAP@5 scores: [0.13138947 0.12998446 0.12848437]\n"
     ]
    },
    {
     "name": "stderr",
     "output_type": "stream",
     "text": [
      "[Parallel(n_jobs=1)]: Done   3 out of   3 | elapsed:    5.8s finished\n"
     ]
    },
    {
     "name": "stdout",
     "output_type": "stream",
     "text": [
      "Classifier: DecisionTreeClassifier; MAP@5 scores: [0.09235967 0.09334065 0.08932604]\n"
     ]
    },
    {
     "name": "stderr",
     "output_type": "stream",
     "text": [
      "[Parallel(n_jobs=1)]: Done   3 out of   3 | elapsed:    6.0s finished\n"
     ]
    },
    {
     "name": "stdout",
     "output_type": "stream",
     "text": [
      "Classifier: RandomForestClassifier; MAP@5 scores: [0.16603941 0.16292284 0.16287071]\n"
     ]
    },
    {
     "name": "stderr",
     "output_type": "stream",
     "text": [
      "[Parallel(n_jobs=1)]: Done   3 out of   3 | elapsed:    5.1s finished\n"
     ]
    },
    {
     "name": "stdout",
     "output_type": "stream",
     "text": [
      "Classifier: ExtraTreesClassifier; MAP@5 scores: [0.16172528 0.16323459 0.16144562]\n",
      "Classifier: XGBClassifier; MAP@5 scores: [0.21636993 0.22100475 0.21743557]\n"
     ]
    },
    {
     "name": "stderr",
     "output_type": "stream",
     "text": [
      "[Parallel(n_jobs=1)]: Done   3 out of   3 | elapsed: 15.2min finished\n"
     ]
    },
    {
     "data": {
      "text/html": [
       "<div>\n",
       "<style scoped>\n",
       "    .dataframe tbody tr th:only-of-type {\n",
       "        vertical-align: middle;\n",
       "    }\n",
       "\n",
       "    .dataframe tbody tr th {\n",
       "        vertical-align: top;\n",
       "    }\n",
       "\n",
       "    .dataframe thead th {\n",
       "        text-align: right;\n",
       "    }\n",
       "</style>\n",
       "<table border=\"1\" class=\"dataframe\">\n",
       "  <thead>\n",
       "    <tr style=\"text-align: right;\">\n",
       "      <th></th>\n",
       "      <th>Classifer</th>\n",
       "      <th>Mean MAP@5</th>\n",
       "      <th>Time taken (s)</th>\n",
       "    </tr>\n",
       "  </thead>\n",
       "  <tbody>\n",
       "    <tr>\n",
       "      <th>0</th>\n",
       "      <td>BernoulliNB</td>\n",
       "      <td>0.129953</td>\n",
       "      <td>3.43</td>\n",
       "    </tr>\n",
       "    <tr>\n",
       "      <th>1</th>\n",
       "      <td>DecisionTreeClassifier</td>\n",
       "      <td>0.091675</td>\n",
       "      <td>5.85</td>\n",
       "    </tr>\n",
       "    <tr>\n",
       "      <th>2</th>\n",
       "      <td>RandomForestClassifier</td>\n",
       "      <td>0.163944</td>\n",
       "      <td>6.04</td>\n",
       "    </tr>\n",
       "    <tr>\n",
       "      <th>3</th>\n",
       "      <td>ExtraTreesClassifier</td>\n",
       "      <td>0.162135</td>\n",
       "      <td>5.07</td>\n",
       "    </tr>\n",
       "    <tr>\n",
       "      <th>4</th>\n",
       "      <td>XGBClassifier</td>\n",
       "      <td>0.218270</td>\n",
       "      <td>914.93</td>\n",
       "    </tr>\n",
       "  </tbody>\n",
       "</table>\n",
       "</div>"
      ],
      "text/plain": [
       "                Classifer  Mean MAP@5 Time taken (s)\n",
       "0             BernoulliNB    0.129953           3.43\n",
       "1  DecisionTreeClassifier    0.091675           5.85\n",
       "2  RandomForestClassifier    0.163944           6.04\n",
       "3    ExtraTreesClassifier    0.162135           5.07\n",
       "4           XGBClassifier    0.218270         914.93"
      ]
     },
     "execution_count": 41,
     "metadata": {},
     "output_type": "execute_result"
    }
   ],
   "source": [
    "from time import time\n",
    "\n",
    "from sklearn.naive_bayes import BernoulliNB\n",
    "from sklearn.tree import DecisionTreeClassifier\n",
    "from sklearn.ensemble import RandomForestClassifier\n",
    "from sklearn.ensemble import ExtraTreesClassifier\n",
    "from xgboost import XGBClassifier\n",
    "\n",
    "clf_NB = BernoulliNB()\n",
    "clf_DecisionTree = DecisionTreeClassifier(random_state=42)\n",
    "clf_RandomForest = RandomForestClassifier(n_jobs=-1, random_state=42)\n",
    "clf_ExtraTrees = ExtraTreesClassifier(n_jobs=-1, random_state=42)\n",
    "clf_XGB = XGBClassifier(n_jobs=-1, random_state=42)\n",
    "\n",
    "results = evaluate_classifiers([clf_NB, clf_DecisionTree, clf_RandomForest, clf_ExtraTrees, clf_XGB], data_train_reduced)\n",
    "\n",
    "pd.DataFrame(results)"
   ]
  },
  {
   "cell_type": "markdown",
   "metadata": {},
   "source": [
    "### Model Tuning"
   ]
  },
  {
   "cell_type": "markdown",
   "metadata": {},
   "source": [
    "Use Grid Search Cross Validation to find the optimum hyperparameters."
   ]
  },
  {
   "cell_type": "code",
   "execution_count": 42,
   "metadata": {},
   "outputs": [],
   "source": [
    "from sklearn.model_selection import GridSearchCV\n",
    "from sklearn.model_selection import RandomizedSearchCV\n",
    "\n",
    "def tune_params(clf, parameters, X, y, random_search=False):\n",
    "    scorer = make_scorer(mapk_scorer, needs_proba=True, k=5)\n",
    "    \n",
    "    if random_search:\n",
    "        print(\"Randomized Grid Search CV\")        \n",
    "        search = RandomizedSearchCV(clf, param_distributions=parameters, scoring=scorer, cv=3)\n",
    "    else:\n",
    "        print(\"Performing Grid Search CV\")\n",
    "        search = GridSearchCV(clf, parameters, scoring = scorer, cv=3, verbose=1, n_jobs=-1)\n",
    "\n",
    "    start = time()\n",
    "    search.fit(X, y)\n",
    "    end = time()\n",
    "    \n",
    "    return search, (end-start)"
   ]
  },
  {
   "cell_type": "code",
   "execution_count": 43,
   "metadata": {},
   "outputs": [
    {
     "name": "stderr",
     "output_type": "stream",
     "text": [
      "/anaconda3/lib/python3.6/site-packages/sklearn/model_selection/_split.py:605: Warning: The least populated class in y has only 2 members, which is too few. The minimum number of members in any class cannot be less than n_splits=3.\n",
      "  % (min_groups, self.n_splits)), Warning)\n"
     ]
    },
    {
     "name": "stdout",
     "output_type": "stream",
     "text": [
      "Performing Grid Search CV\n",
      "Fitting 3 folds for each of 12 candidates, totalling 36 fits\n"
     ]
    },
    {
     "name": "stderr",
     "output_type": "stream",
     "text": [
      "[Parallel(n_jobs=-1)]: Done  36 out of  36 | elapsed:    3.1s finished\n"
     ]
    },
    {
     "name": "stdout",
     "output_type": "stream",
     "text": [
      "Classifier: DecisionTreeClassifier\n",
      "Best params: {'min_samples_leaf': 5, 'min_samples_split': 2}\n",
      "Best score: 0.11734345466739833\n",
      "Time taken: 3.77 s\n",
      "\n",
      "Performing Grid Search CV\n",
      "Fitting 3 folds for each of 12 candidates, totalling 36 fits\n"
     ]
    },
    {
     "name": "stderr",
     "output_type": "stream",
     "text": [
      "/anaconda3/lib/python3.6/site-packages/sklearn/model_selection/_split.py:605: Warning: The least populated class in y has only 2 members, which is too few. The minimum number of members in any class cannot be less than n_splits=3.\n",
      "  % (min_groups, self.n_splits)), Warning)\n",
      "[Parallel(n_jobs=-1)]: Done  36 out of  36 | elapsed:   10.5s finished\n"
     ]
    },
    {
     "name": "stdout",
     "output_type": "stream",
     "text": [
      "Classifier: RandomForestClassifier\n",
      "Best params: {'min_samples_leaf': 5, 'min_samples_split': 2}\n",
      "Best score: 0.18638192793122368\n",
      "Time taken: 11.92 s\n",
      "\n",
      "Performing Grid Search CV\n",
      "Fitting 3 folds for each of 12 candidates, totalling 36 fits\n"
     ]
    },
    {
     "name": "stderr",
     "output_type": "stream",
     "text": [
      "/anaconda3/lib/python3.6/site-packages/sklearn/model_selection/_split.py:605: Warning: The least populated class in y has only 2 members, which is too few. The minimum number of members in any class cannot be less than n_splits=3.\n",
      "  % (min_groups, self.n_splits)), Warning)\n",
      "[Parallel(n_jobs=-1)]: Done  36 out of  36 | elapsed:    9.3s finished\n"
     ]
    },
    {
     "name": "stdout",
     "output_type": "stream",
     "text": [
      "Classifier: ExtraTreesClassifier\n",
      "Best params: {'min_samples_leaf': 5, 'min_samples_split': 2}\n",
      "Best score: 0.18690323760746297\n",
      "Time taken: 10.21 s\n"
     ]
    }
   ],
   "source": [
    "\n",
    "y=data_train_reduced[\"hotel_cluster\"]\n",
    "X=data_train_reduced.drop([\"hotel_cluster\"], axis=1)\n",
    "\n",
    "X_train, X_test, y_train, y_test = train_test_split(X, y, test_size=0.90, random_state=42)\n",
    "\n",
    "param_grid = {\n",
    "    'min_samples_leaf': list(range(1, 7, 2)),\n",
    "    'min_samples_split' : list(range(2, 6)),\n",
    "}\n",
    "\n",
    "clf_DecisionTree = DecisionTreeClassifier(random_state=42)\n",
    "search, time_taken = tune_params(clf_DecisionTree, param_grid, X_train, y_train)\n",
    "print(\"Classifier: {}\".format(clf_DecisionTree.__class__.__name__))\n",
    "print(\"Best params: {}\".format(search.best_params_))\n",
    "print(\"Best score: {}\".format(search.best_score_))\n",
    "print(\"Time taken: {:.2f} s\".format(time_taken))\n",
    "\n",
    "print()\n",
    "clf_RandomForest = RandomForestClassifier(n_estimators=51, random_state=42)\n",
    "search, time_taken = tune_params(clf_RandomForest, param_grid, X_train, y_train)\n",
    "print(\"Classifier: {}\".format(clf_RandomForest.__class__.__name__))\n",
    "print(\"Best params: {}\".format(search.best_params_))\n",
    "print(\"Best score: {}\".format(search.best_score_))\n",
    "print(\"Time taken: {:.2f} s\".format(time_taken))\n",
    "\n",
    "print()\n",
    "clf_ExtraTrees = ExtraTreesClassifier(n_estimators=57, random_state=42)\n",
    "search, time_taken = tune_params(clf_ExtraTrees, param_grid, X_train, y_train)\n",
    "print(\"Classifier: {}\".format(clf_ExtraTrees.__class__.__name__))\n",
    "print(\"Best params: {}\".format(search.best_params_))\n",
    "print(\"Best score: {}\".format(search.best_score_))\n",
    "print(\"Time taken: {:.2f} s\".format(time_taken))\n"
   ]
  },
  {
   "cell_type": "code",
   "execution_count": 44,
   "metadata": {},
   "outputs": [
    {
     "name": "stdout",
     "output_type": "stream",
     "text": [
      "Performing Grid Search CV\n",
      "Fitting 3 folds for each of 9 candidates, totalling 27 fits\n"
     ]
    },
    {
     "name": "stderr",
     "output_type": "stream",
     "text": [
      "/anaconda3/lib/python3.6/site-packages/sklearn/model_selection/_split.py:605: Warning: The least populated class in y has only 2 members, which is too few. The minimum number of members in any class cannot be less than n_splits=3.\n",
      "  % (min_groups, self.n_splits)), Warning)\n",
      "[Parallel(n_jobs=-1)]: Done  27 out of  27 | elapsed:  3.9min finished\n"
     ]
    },
    {
     "name": "stdout",
     "output_type": "stream",
     "text": [
      "Classifier: XGBClassifier\n",
      "Best params: {'colsample_bytree': 0.4, 'max_depth': 3}\n",
      "Best score: 0.17769343332723614\n",
      "Time taken: 255.22 s\n"
     ]
    }
   ],
   "source": [
    "clf_XGB = XGBClassifier(n_jobs=-1, random_state=42)\n",
    "parameters = {'max_depth': [3, 6, 9], 'colsample_bytree': [0.3, 0.4, 0.5] }\n",
    "search, time_taken = tune_params(clf_XGB, parameters, X_train, y_train)\n",
    "print(\"Classifier: {}\".format(clf_XGB.__class__.__name__))\n",
    "print(\"Best params: {}\".format(search.best_params_))\n",
    "print(\"Best score: {}\".format(search.best_score_))\n",
    "print(\"Time taken: {:.2f} s\".format(time_taken))"
   ]
  },
  {
   "cell_type": "code",
   "execution_count": 45,
   "metadata": {},
   "outputs": [
    {
     "name": "stderr",
     "output_type": "stream",
     "text": [
      "[Parallel(n_jobs=1)]: Done   3 out of   3 | elapsed:    3.2s finished\n"
     ]
    },
    {
     "name": "stdout",
     "output_type": "stream",
     "text": [
      "Classifier: BernoulliNB; MAP@5 scores: [0.13138947 0.12998446 0.12848437]\n"
     ]
    },
    {
     "name": "stderr",
     "output_type": "stream",
     "text": [
      "[Parallel(n_jobs=1)]: Done   3 out of   3 | elapsed:    4.8s finished\n"
     ]
    },
    {
     "name": "stdout",
     "output_type": "stream",
     "text": [
      "Classifier: DecisionTreeClassifier; MAP@5 scores: [0.13701837 0.14079813 0.14053851]\n"
     ]
    },
    {
     "name": "stderr",
     "output_type": "stream",
     "text": [
      "[Parallel(n_jobs=1)]: Done   3 out of   3 | elapsed:    7.9s finished\n"
     ]
    },
    {
     "name": "stdout",
     "output_type": "stream",
     "text": [
      "Classifier: RandomForestClassifier; MAP@5 scores: [0.22417735 0.22670872 0.22520162]\n"
     ]
    },
    {
     "name": "stderr",
     "output_type": "stream",
     "text": [
      "[Parallel(n_jobs=1)]: Done   3 out of   3 | elapsed:    7.0s finished\n"
     ]
    },
    {
     "name": "stdout",
     "output_type": "stream",
     "text": [
      "Classifier: ExtraTreesClassifier; MAP@5 scores: [0.22562452 0.22647285 0.22513564]\n",
      "Classifier: XGBClassifier; MAP@5 scores: [0.22732826 0.22468276 0.22538308]\n"
     ]
    },
    {
     "name": "stderr",
     "output_type": "stream",
     "text": [
      "[Parallel(n_jobs=1)]: Done   3 out of   3 | elapsed: 20.6min finished\n"
     ]
    },
    {
     "data": {
      "text/html": [
       "<div>\n",
       "<style scoped>\n",
       "    .dataframe tbody tr th:only-of-type {\n",
       "        vertical-align: middle;\n",
       "    }\n",
       "\n",
       "    .dataframe tbody tr th {\n",
       "        vertical-align: top;\n",
       "    }\n",
       "\n",
       "    .dataframe thead th {\n",
       "        text-align: right;\n",
       "    }\n",
       "</style>\n",
       "<table border=\"1\" class=\"dataframe\">\n",
       "  <thead>\n",
       "    <tr style=\"text-align: right;\">\n",
       "      <th></th>\n",
       "      <th>Classifer</th>\n",
       "      <th>Mean MAP@5</th>\n",
       "      <th>Time taken (s)</th>\n",
       "    </tr>\n",
       "  </thead>\n",
       "  <tbody>\n",
       "    <tr>\n",
       "      <th>0</th>\n",
       "      <td>BernoulliNB</td>\n",
       "      <td>0.129953</td>\n",
       "      <td>3.24</td>\n",
       "    </tr>\n",
       "    <tr>\n",
       "      <th>1</th>\n",
       "      <td>DecisionTreeClassifier</td>\n",
       "      <td>0.139452</td>\n",
       "      <td>4.77</td>\n",
       "    </tr>\n",
       "    <tr>\n",
       "      <th>2</th>\n",
       "      <td>RandomForestClassifier</td>\n",
       "      <td>0.225363</td>\n",
       "      <td>7.94</td>\n",
       "    </tr>\n",
       "    <tr>\n",
       "      <th>3</th>\n",
       "      <td>ExtraTreesClassifier</td>\n",
       "      <td>0.225744</td>\n",
       "      <td>7.02</td>\n",
       "    </tr>\n",
       "    <tr>\n",
       "      <th>4</th>\n",
       "      <td>XGBClassifier</td>\n",
       "      <td>0.225798</td>\n",
       "      <td>1235.90</td>\n",
       "    </tr>\n",
       "  </tbody>\n",
       "</table>\n",
       "</div>"
      ],
      "text/plain": [
       "                Classifer  Mean MAP@5 Time taken (s)\n",
       "0             BernoulliNB    0.129953           3.24\n",
       "1  DecisionTreeClassifier    0.139452           4.77\n",
       "2  RandomForestClassifier    0.225363           7.94\n",
       "3    ExtraTreesClassifier    0.225744           7.02\n",
       "4           XGBClassifier    0.225798        1235.90"
      ]
     },
     "execution_count": 45,
     "metadata": {},
     "output_type": "execute_result"
    }
   ],
   "source": [
    "clf_NB = BernoulliNB()\n",
    "clf_DecisionTree = DecisionTreeClassifier(min_samples_leaf=5, min_samples_split=2, random_state=42)\n",
    "clf_RandomForest = RandomForestClassifier(min_samples_leaf=5, min_samples_split=2, n_estimators=51, n_jobs=-1, random_state=42)\n",
    "clf_ExtraTrees = ExtraTreesClassifier(min_samples_leaf=5, min_samples_split=2, n_estimators=57, n_jobs=-1, random_state=42)\n",
    "clf_XGB = XGBClassifier(n_jobs=-1, colsample_bytree=0.3, max_depth=9, random_state=42)\n",
    "\n",
    "results = evaluate_classifiers([clf_NB, clf_DecisionTree, clf_RandomForest, clf_ExtraTrees, clf_XGB], data_train_reduced)\n",
    "\n",
    "pd.DataFrame(results)"
   ]
  },
  {
   "cell_type": "markdown",
   "metadata": {},
   "source": [
    "RandomForestClassifier and ExtraTreesClassifier have better scores and relatively lower times. Hence, tune these further. "
   ]
  },
  {
   "cell_type": "code",
   "execution_count": 46,
   "metadata": {},
   "outputs": [
    {
     "name": "stdout",
     "output_type": "stream",
     "text": [
      "\n",
      "Performing Grid Search CV\n",
      "Fitting 3 folds for each of 384 candidates, totalling 1152 fits\n"
     ]
    },
    {
     "name": "stderr",
     "output_type": "stream",
     "text": [
      "/anaconda3/lib/python3.6/site-packages/sklearn/model_selection/_split.py:605: Warning: The least populated class in y has only 2 members, which is too few. The minimum number of members in any class cannot be less than n_splits=3.\n",
      "  % (min_groups, self.n_splits)), Warning)\n",
      "[Parallel(n_jobs=-1)]: Done  34 tasks      | elapsed:    7.2s\n",
      "[Parallel(n_jobs=-1)]: Done 184 tasks      | elapsed:   38.3s\n",
      "[Parallel(n_jobs=-1)]: Done 434 tasks      | elapsed:  1.7min\n",
      "[Parallel(n_jobs=-1)]: Done 784 tasks      | elapsed:  3.8min\n",
      "[Parallel(n_jobs=-1)]: Done 1152 out of 1152 | elapsed:  6.0min finished\n"
     ]
    },
    {
     "name": "stdout",
     "output_type": "stream",
     "text": [
      "Classifier: RandomForestClassifier\n",
      "Best params: {'max_depth': 29, 'min_samples_leaf': 5, 'min_samples_split': 2, 'n_estimators': 131}\n",
      "Best score: 0.1933113834522285\n",
      "Time taken: 364.95 s\n",
      "\n",
      "Performing Grid Search CV\n",
      "Fitting 3 folds for each of 384 candidates, totalling 1152 fits\n"
     ]
    },
    {
     "name": "stderr",
     "output_type": "stream",
     "text": [
      "/anaconda3/lib/python3.6/site-packages/sklearn/model_selection/_split.py:605: Warning: The least populated class in y has only 2 members, which is too few. The minimum number of members in any class cannot be less than n_splits=3.\n",
      "  % (min_groups, self.n_splits)), Warning)\n",
      "[Parallel(n_jobs=-1)]: Done  34 tasks      | elapsed:    6.8s\n",
      "[Parallel(n_jobs=-1)]: Done 184 tasks      | elapsed:   35.0s\n",
      "[Parallel(n_jobs=-1)]: Done 434 tasks      | elapsed:  1.5min\n",
      "[Parallel(n_jobs=-1)]: Done 784 tasks      | elapsed:  3.2min\n",
      "[Parallel(n_jobs=-1)]: Done 1152 out of 1152 | elapsed:  5.0min finished\n"
     ]
    },
    {
     "name": "stdout",
     "output_type": "stream",
     "text": [
      "Classifier: ExtraTreesClassifier\n",
      "Best params: {'max_depth': 13, 'min_samples_leaf': 3, 'min_samples_split': 2, 'n_estimators': 131}\n",
      "Best score: 0.19149137247728798\n",
      "Time taken: 302.07 s\n"
     ]
    }
   ],
   "source": [
    "param_grid = {\n",
    "    'n_estimators': [51, 91, 131],\n",
    "    'min_samples_leaf': list(range(1, 7, 2)) + [50],\n",
    "    'min_samples_split' : list(range(2, 6)),\n",
    "    'max_depth': list(range(1, 32, 4))\n",
    "}\n",
    "\n",
    "print()\n",
    "clf_RandomForest = RandomForestClassifier(max_depth=None, n_estimators=51, random_state=42)\n",
    "search, time_taken = tune_params(clf_RandomForest, param_grid, X_train, y_train)\n",
    "print(\"Classifier: {}\".format(clf_RandomForest.__class__.__name__))\n",
    "print(\"Best params: {}\".format(search.best_params_))\n",
    "print(\"Best score: {}\".format(search.best_score_))\n",
    "print(\"Time taken: {:.2f} s\".format(time_taken))\n",
    "\n",
    "print()\n",
    "clf_ExtraTrees = ExtraTreesClassifier(max_depth=None, n_estimators=57, random_state=42)\n",
    "search, time_taken = tune_params(clf_ExtraTrees, param_grid, X_train, y_train)\n",
    "print(\"Classifier: {}\".format(clf_ExtraTrees.__class__.__name__))\n",
    "print(\"Best params: {}\".format(search.best_params_))\n",
    "print(\"Best score: {}\".format(search.best_score_))\n",
    "print(\"Time taken: {:.2f} s\".format(time_taken))"
   ]
  },
  {
   "cell_type": "markdown",
   "metadata": {},
   "source": [
    "We've now obtained a newer set of hyperparameters which give a better score. Use thse to get scores from the redcuded dataset (records with 15,000 randomly chosed user IDs)."
   ]
  },
  {
   "cell_type": "code",
   "execution_count": 47,
   "metadata": {},
   "outputs": [
    {
     "name": "stdout",
     "output_type": "stream",
     "text": [
      "Classifier: RandomForestClassifier; MAP@5 scores: [0.22610752 0.23079722 0.22799223]\n"
     ]
    },
    {
     "name": "stderr",
     "output_type": "stream",
     "text": [
      "[Parallel(n_jobs=1)]: Done   3 out of   3 | elapsed:    9.8s finished\n"
     ]
    },
    {
     "data": {
      "text/html": [
       "<div>\n",
       "<style scoped>\n",
       "    .dataframe tbody tr th:only-of-type {\n",
       "        vertical-align: middle;\n",
       "    }\n",
       "\n",
       "    .dataframe tbody tr th {\n",
       "        vertical-align: top;\n",
       "    }\n",
       "\n",
       "    .dataframe thead th {\n",
       "        text-align: right;\n",
       "    }\n",
       "</style>\n",
       "<table border=\"1\" class=\"dataframe\">\n",
       "  <thead>\n",
       "    <tr style=\"text-align: right;\">\n",
       "      <th></th>\n",
       "      <th>Classifer</th>\n",
       "      <th>Mean MAP@5</th>\n",
       "      <th>Time taken (s)</th>\n",
       "    </tr>\n",
       "  </thead>\n",
       "  <tbody>\n",
       "    <tr>\n",
       "      <th>0</th>\n",
       "      <td>RandomForestClassifier</td>\n",
       "      <td>0.228299</td>\n",
       "      <td>9.80</td>\n",
       "    </tr>\n",
       "  </tbody>\n",
       "</table>\n",
       "</div>"
      ],
      "text/plain": [
       "                Classifer  Mean MAP@5 Time taken (s)\n",
       "0  RandomForestClassifier    0.228299           9.80"
      ]
     },
     "execution_count": 47,
     "metadata": {},
     "output_type": "execute_result"
    }
   ],
   "source": [
    "clf_RandomForest = RandomForestClassifier(min_samples_leaf=5, min_samples_split=2, max_depth=13, n_estimators=91, n_jobs=-1, random_state=42)\n",
    "\n",
    "results_final = evaluate_classifiers([clf_RandomForest], data_train_reduced)\n",
    "\n",
    "pd.DataFrame(results_final)"
   ]
  },
  {
   "cell_type": "markdown",
   "metadata": {},
   "source": [
    "Run this model on the full training dataset. "
   ]
  },
  {
   "cell_type": "code",
   "execution_count": 49,
   "metadata": {},
   "outputs": [
    {
     "name": "stderr",
     "output_type": "stream",
     "text": [
      "[Parallel(n_jobs=1)]: Done   3 out of   3 | elapsed: 30.1min finished\n"
     ]
    },
    {
     "name": "stdout",
     "output_type": "stream",
     "text": [
      "Classifier: RandomForestClassifier; MAP@5 scores: [0.33050607 0.33015664 0.33100882]\n"
     ]
    },
    {
     "data": {
      "text/html": [
       "<div>\n",
       "<style scoped>\n",
       "    .dataframe tbody tr th:only-of-type {\n",
       "        vertical-align: middle;\n",
       "    }\n",
       "\n",
       "    .dataframe tbody tr th {\n",
       "        vertical-align: top;\n",
       "    }\n",
       "\n",
       "    .dataframe thead th {\n",
       "        text-align: right;\n",
       "    }\n",
       "</style>\n",
       "<table border=\"1\" class=\"dataframe\">\n",
       "  <thead>\n",
       "    <tr style=\"text-align: right;\">\n",
       "      <th></th>\n",
       "      <th>Classifer</th>\n",
       "      <th>Mean MAP@5</th>\n",
       "      <th>Time taken (s)</th>\n",
       "    </tr>\n",
       "  </thead>\n",
       "  <tbody>\n",
       "    <tr>\n",
       "      <th>0</th>\n",
       "      <td>RandomForestClassifier</td>\n",
       "      <td>0.330557</td>\n",
       "      <td>1806.65</td>\n",
       "    </tr>\n",
       "  </tbody>\n",
       "</table>\n",
       "</div>"
      ],
      "text/plain": [
       "                Classifer  Mean MAP@5 Time taken (s)\n",
       "0  RandomForestClassifier    0.330557        1806.65"
      ]
     },
     "execution_count": 49,
     "metadata": {},
     "output_type": "execute_result"
    }
   ],
   "source": [
    "clf_RandomForest = RandomForestClassifier(min_samples_leaf=5, min_samples_split=2, max_depth=29, n_estimators=131, n_jobs=-1, random_state=42)\n",
    "\n",
    "results_final = evaluate_classifiers([clf_RandomForest], data_train_final)\n",
    "\n",
    "pd.DataFrame(results_final)"
   ]
  },
  {
   "cell_type": "code",
   "execution_count": null,
   "metadata": {},
   "outputs": [],
   "source": []
  }
 ],
 "metadata": {
  "kernelspec": {
   "display_name": "Python 3",
   "language": "python",
   "name": "python3"
  },
  "language_info": {
   "codemirror_mode": {
    "name": "ipython",
    "version": 3
   },
   "file_extension": ".py",
   "mimetype": "text/x-python",
   "name": "python",
   "nbconvert_exporter": "python",
   "pygments_lexer": "ipython3",
   "version": "3.6.4"
  }
 },
 "nbformat": 4,
 "nbformat_minor": 2
}
